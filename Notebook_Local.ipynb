{
  "nbformat": 4,
  "nbformat_minor": 2,
  "metadata": {
    "colab": {
      "name": "PayU.ipynb",
      "provenance": [],
      "collapsed_sections": [],
      "toc_visible": true
    },
    "kernelspec": {
      "name": "python3",
      "display_name": "Python 3"
    },
    "language_info": {
      "name": "python"
    }
  },
  "cells": [
    {
      "cell_type": "markdown",
      "source": [
        "#Library and data load"
      ],
      "metadata": {
        "id": "aXD10CuG5G5N"
      }
    },
    {
      "cell_type": "code",
      "execution_count": 1,
      "source": [
        "import os\r\n",
        "import datetime as dt\r\n",
        "import openpyxl\r\n",
        "import pandas as pd\r\n",
        "import numpy as np\r\n",
        "import matplotlib.pyplot as plt\r\n",
        "import seaborn as sns\r\n",
        "\r\n",
        "sns.set_theme(style=\"darkgrid\")"
      ],
      "outputs": [],
      "metadata": {
        "id": "gjuv3e1oS0lL"
      }
    },
    {
      "cell_type": "code",
      "execution_count": 2,
      "source": [
        "from sklearn.svm import LinearSVC\r\n",
        "from sklearn.pipeline import make_pipeline\r\n",
        "from sklearn.preprocessing import MinMaxScaler\r\n",
        "from sklearn.model_selection import train_test_split\r\n",
        "from sklearn.feature_selection import SelectKBest, f_classif"
      ],
      "outputs": [],
      "metadata": {
        "id": "Q5H0mzp_4la1"
      }
    },
    {
      "cell_type": "code",
      "execution_count": 14,
      "source": [
        "import xgboost as xgb\r\n",
        "from sklearn.model_selection import KFold, train_test_split, GridSearchCV\r\n",
        "from sklearn.metrics import confusion_matrix, mean_squared_error\r\n",
        "from sklearn.neighbors import KNeighborsClassifier\r\n",
        "from matplotlib.colors import ListedColormap\r\n",
        "from sklearn.model_selection import train_test_split\r\n",
        "from sklearn.preprocessing import StandardScaler\r\n",
        "from sklearn.neural_network import MLPClassifier\r\n",
        "from sklearn.neighbors import KNeighborsClassifier\r\n",
        "from sklearn.svm import SVC\r\n",
        "from sklearn.gaussian_process import GaussianProcessClassifier\r\n",
        "from sklearn.gaussian_process.kernels import RBF\r\n",
        "from sklearn.tree import DecisionTreeClassifier\r\n",
        "from sklearn.ensemble import RandomForestClassifier, AdaBoostClassifier\r\n",
        "from sklearn.naive_bayes import GaussianNB\r\n"
      ],
      "outputs": [],
      "metadata": {
        "id": "Rkhj1uClBqjc"
      }
    },
    {
      "cell_type": "code",
      "execution_count": 3,
      "source": [
        "path='DatosPrueba.csv'\r\n",
        "df = pd.read_csv(path, sep=\";\", index_col=\"Unnamed: 0\")\r\n",
        "df.head()"
      ],
      "outputs": [
        {
          "output_type": "execute_result",
          "data": {
            "text/plain": [
              "    Unnamed: 0.1 trans_date_trans_time  ...          merch_long is_fraud\n",
              "3              3   2019-01-01 00:01:16  ...         -112,561071        0\n",
              "10            10   2019-01-01 00:06:23  ...          -96,011548        0\n",
              "27            27   2019-01-01 00:21:32  ...         -111,454923        0\n",
              "32            32   2019-01-01 00:22:44  ...          -88,516663        0\n",
              "34            34   2019-01-01 00:23:58  ...  -76,44111600000002        0\n",
              "\n",
              "[5 rows x 23 columns]"
            ],
            "text/html": [
              "<div>\n",
              "<style scoped>\n",
              "    .dataframe tbody tr th:only-of-type {\n",
              "        vertical-align: middle;\n",
              "    }\n",
              "\n",
              "    .dataframe tbody tr th {\n",
              "        vertical-align: top;\n",
              "    }\n",
              "\n",
              "    .dataframe thead th {\n",
              "        text-align: right;\n",
              "    }\n",
              "</style>\n",
              "<table border=\"1\" class=\"dataframe\">\n",
              "  <thead>\n",
              "    <tr style=\"text-align: right;\">\n",
              "      <th></th>\n",
              "      <th>Unnamed: 0.1</th>\n",
              "      <th>trans_date_trans_time</th>\n",
              "      <th>cc_num</th>\n",
              "      <th>merchant</th>\n",
              "      <th>category</th>\n",
              "      <th>amt</th>\n",
              "      <th>first</th>\n",
              "      <th>last</th>\n",
              "      <th>gender</th>\n",
              "      <th>street</th>\n",
              "      <th>city</th>\n",
              "      <th>state</th>\n",
              "      <th>zip</th>\n",
              "      <th>lat</th>\n",
              "      <th>long</th>\n",
              "      <th>city_pop</th>\n",
              "      <th>job</th>\n",
              "      <th>dob</th>\n",
              "      <th>trans_num</th>\n",
              "      <th>unix_time</th>\n",
              "      <th>merch_lat</th>\n",
              "      <th>merch_long</th>\n",
              "      <th>is_fraud</th>\n",
              "    </tr>\n",
              "  </thead>\n",
              "  <tbody>\n",
              "    <tr>\n",
              "      <th>3</th>\n",
              "      <td>3</td>\n",
              "      <td>2019-01-01 00:01:16</td>\n",
              "      <td>3534093764340240</td>\n",
              "      <td>fraud_Kutch, Hermiston and Farrell</td>\n",
              "      <td>gas_transport</td>\n",
              "      <td>45,0</td>\n",
              "      <td>Jeremy</td>\n",
              "      <td>White</td>\n",
              "      <td>M</td>\n",
              "      <td>9443 Cynthia Court Apt. 038</td>\n",
              "      <td>Boulder</td>\n",
              "      <td>MT</td>\n",
              "      <td>59632</td>\n",
              "      <td>46,2306</td>\n",
              "      <td>-112,1138</td>\n",
              "      <td>1939</td>\n",
              "      <td>Patent attorney</td>\n",
              "      <td>1967-01-12</td>\n",
              "      <td>6b849c168bdad6f867558c3793159a81</td>\n",
              "      <td>1325376076</td>\n",
              "      <td>47,034331</td>\n",
              "      <td>-112,561071</td>\n",
              "      <td>0</td>\n",
              "    </tr>\n",
              "    <tr>\n",
              "      <th>10</th>\n",
              "      <td>10</td>\n",
              "      <td>2019-01-01 00:06:23</td>\n",
              "      <td>4642894980163</td>\n",
              "      <td>fraud_Rutherford-Mertz</td>\n",
              "      <td>grocery_pos</td>\n",
              "      <td>24,74</td>\n",
              "      <td>Eddie</td>\n",
              "      <td>Mendez</td>\n",
              "      <td>M</td>\n",
              "      <td>1831 Faith View Suite 653</td>\n",
              "      <td>Clarinda</td>\n",
              "      <td>IA</td>\n",
              "      <td>51632</td>\n",
              "      <td>40,7491</td>\n",
              "      <td>-95,038</td>\n",
              "      <td>7297</td>\n",
              "      <td>IT trainer</td>\n",
              "      <td>1990-07-13</td>\n",
              "      <td>d71c95ab6b7356dd74389d41df429c87</td>\n",
              "      <td>1325376383</td>\n",
              "      <td>40,275891</td>\n",
              "      <td>-96,011548</td>\n",
              "      <td>0</td>\n",
              "    </tr>\n",
              "    <tr>\n",
              "      <th>27</th>\n",
              "      <td>27</td>\n",
              "      <td>2019-01-01 00:21:32</td>\n",
              "      <td>4334230547694630</td>\n",
              "      <td>fraud_Bruen-Yost</td>\n",
              "      <td>misc_pos</td>\n",
              "      <td>6,85</td>\n",
              "      <td>Scott</td>\n",
              "      <td>Martin</td>\n",
              "      <td>M</td>\n",
              "      <td>7483 Navarro Flats</td>\n",
              "      <td>Freedom</td>\n",
              "      <td>WY</td>\n",
              "      <td>83120</td>\n",
              "      <td>43,0172</td>\n",
              "      <td>-111,0292</td>\n",
              "      <td>471</td>\n",
              "      <td>Education officer, museum</td>\n",
              "      <td>1967-08-02</td>\n",
              "      <td>f3c43d336e92a44fc2fb67058d5949e3</td>\n",
              "      <td>1325377292</td>\n",
              "      <td>43,753735</td>\n",
              "      <td>-111,454923</td>\n",
              "      <td>0</td>\n",
              "    </tr>\n",
              "    <tr>\n",
              "      <th>32</th>\n",
              "      <td>32</td>\n",
              "      <td>2019-01-01 00:22:44</td>\n",
              "      <td>630412733309</td>\n",
              "      <td>fraud_Torphy-Goyette</td>\n",
              "      <td>shopping_pos</td>\n",
              "      <td>66,21</td>\n",
              "      <td>Heather</td>\n",
              "      <td>Stanton</td>\n",
              "      <td>F</td>\n",
              "      <td>445 Jerry Lights Apt. 081</td>\n",
              "      <td>Republic</td>\n",
              "      <td>MI</td>\n",
              "      <td>49879</td>\n",
              "      <td>46,368</td>\n",
              "      <td>-87,9938</td>\n",
              "      <td>1038</td>\n",
              "      <td>Armed forces training and education officer</td>\n",
              "      <td>1964-04-22</td>\n",
              "      <td>20f048d3907dbb9978e23bee7b7578ce</td>\n",
              "      <td>1325377364</td>\n",
              "      <td>46,412038</td>\n",
              "      <td>-88,516663</td>\n",
              "      <td>0</td>\n",
              "    </tr>\n",
              "    <tr>\n",
              "      <th>34</th>\n",
              "      <td>34</td>\n",
              "      <td>2019-01-01 00:23:58</td>\n",
              "      <td>374125201044065</td>\n",
              "      <td>fraud_Bahringer, Schoen and Corkery</td>\n",
              "      <td>shopping_pos</td>\n",
              "      <td>9,03</td>\n",
              "      <td>Christopher</td>\n",
              "      <td>Gilbert</td>\n",
              "      <td>M</td>\n",
              "      <td>20937 Reed Lakes Apt. 271</td>\n",
              "      <td>Washington</td>\n",
              "      <td>DC</td>\n",
              "      <td>20012</td>\n",
              "      <td>38,9757</td>\n",
              "      <td>-77,0282</td>\n",
              "      <td>601723</td>\n",
              "      <td>Optician, dispensing</td>\n",
              "      <td>1970-07-20</td>\n",
              "      <td>c733711c521c41c578f4a964d8350df0</td>\n",
              "      <td>1325377438</td>\n",
              "      <td>38,880898</td>\n",
              "      <td>-76,44111600000002</td>\n",
              "      <td>0</td>\n",
              "    </tr>\n",
              "  </tbody>\n",
              "</table>\n",
              "</div>"
            ]
          },
          "metadata": {
            "tags": []
          },
          "execution_count": 3
        }
      ],
      "metadata": {
        "colab": {
          "base_uri": "https://localhost:8080/",
          "height": 552
        },
        "id": "ka7avtJ7TwKm",
        "outputId": "260eccd6-4c23-4a4c-fb01-9e0aee51f0e1"
      }
    },
    {
      "cell_type": "markdown",
      "source": [
        "Dataset required small adjustments to get indexes as the originals in the file"
      ],
      "metadata": {
        "id": "5lMiPrr55KkH"
      }
    },
    {
      "cell_type": "code",
      "execution_count": 4,
      "source": [
        "df = pd.read_csv(path, sep=\";\", index_col=\"Unnamed: 0\").drop(columns=[\"Unnamed: 0.1\"], axis=1)\r\n",
        "df.head()"
      ],
      "outputs": [
        {
          "output_type": "execute_result",
          "data": {
            "text/plain": [
              "   trans_date_trans_time            cc_num  ...          merch_long is_fraud\n",
              "3    2019-01-01 00:01:16  3534093764340240  ...         -112,561071        0\n",
              "10   2019-01-01 00:06:23     4642894980163  ...          -96,011548        0\n",
              "27   2019-01-01 00:21:32  4334230547694630  ...         -111,454923        0\n",
              "32   2019-01-01 00:22:44      630412733309  ...          -88,516663        0\n",
              "34   2019-01-01 00:23:58   374125201044065  ...  -76,44111600000002        0\n",
              "\n",
              "[5 rows x 22 columns]"
            ],
            "text/html": [
              "<div>\n",
              "<style scoped>\n",
              "    .dataframe tbody tr th:only-of-type {\n",
              "        vertical-align: middle;\n",
              "    }\n",
              "\n",
              "    .dataframe tbody tr th {\n",
              "        vertical-align: top;\n",
              "    }\n",
              "\n",
              "    .dataframe thead th {\n",
              "        text-align: right;\n",
              "    }\n",
              "</style>\n",
              "<table border=\"1\" class=\"dataframe\">\n",
              "  <thead>\n",
              "    <tr style=\"text-align: right;\">\n",
              "      <th></th>\n",
              "      <th>trans_date_trans_time</th>\n",
              "      <th>cc_num</th>\n",
              "      <th>merchant</th>\n",
              "      <th>category</th>\n",
              "      <th>amt</th>\n",
              "      <th>first</th>\n",
              "      <th>last</th>\n",
              "      <th>gender</th>\n",
              "      <th>street</th>\n",
              "      <th>city</th>\n",
              "      <th>state</th>\n",
              "      <th>zip</th>\n",
              "      <th>lat</th>\n",
              "      <th>long</th>\n",
              "      <th>city_pop</th>\n",
              "      <th>job</th>\n",
              "      <th>dob</th>\n",
              "      <th>trans_num</th>\n",
              "      <th>unix_time</th>\n",
              "      <th>merch_lat</th>\n",
              "      <th>merch_long</th>\n",
              "      <th>is_fraud</th>\n",
              "    </tr>\n",
              "  </thead>\n",
              "  <tbody>\n",
              "    <tr>\n",
              "      <th>3</th>\n",
              "      <td>2019-01-01 00:01:16</td>\n",
              "      <td>3534093764340240</td>\n",
              "      <td>fraud_Kutch, Hermiston and Farrell</td>\n",
              "      <td>gas_transport</td>\n",
              "      <td>45,0</td>\n",
              "      <td>Jeremy</td>\n",
              "      <td>White</td>\n",
              "      <td>M</td>\n",
              "      <td>9443 Cynthia Court Apt. 038</td>\n",
              "      <td>Boulder</td>\n",
              "      <td>MT</td>\n",
              "      <td>59632</td>\n",
              "      <td>46,2306</td>\n",
              "      <td>-112,1138</td>\n",
              "      <td>1939</td>\n",
              "      <td>Patent attorney</td>\n",
              "      <td>1967-01-12</td>\n",
              "      <td>6b849c168bdad6f867558c3793159a81</td>\n",
              "      <td>1325376076</td>\n",
              "      <td>47,034331</td>\n",
              "      <td>-112,561071</td>\n",
              "      <td>0</td>\n",
              "    </tr>\n",
              "    <tr>\n",
              "      <th>10</th>\n",
              "      <td>2019-01-01 00:06:23</td>\n",
              "      <td>4642894980163</td>\n",
              "      <td>fraud_Rutherford-Mertz</td>\n",
              "      <td>grocery_pos</td>\n",
              "      <td>24,74</td>\n",
              "      <td>Eddie</td>\n",
              "      <td>Mendez</td>\n",
              "      <td>M</td>\n",
              "      <td>1831 Faith View Suite 653</td>\n",
              "      <td>Clarinda</td>\n",
              "      <td>IA</td>\n",
              "      <td>51632</td>\n",
              "      <td>40,7491</td>\n",
              "      <td>-95,038</td>\n",
              "      <td>7297</td>\n",
              "      <td>IT trainer</td>\n",
              "      <td>1990-07-13</td>\n",
              "      <td>d71c95ab6b7356dd74389d41df429c87</td>\n",
              "      <td>1325376383</td>\n",
              "      <td>40,275891</td>\n",
              "      <td>-96,011548</td>\n",
              "      <td>0</td>\n",
              "    </tr>\n",
              "    <tr>\n",
              "      <th>27</th>\n",
              "      <td>2019-01-01 00:21:32</td>\n",
              "      <td>4334230547694630</td>\n",
              "      <td>fraud_Bruen-Yost</td>\n",
              "      <td>misc_pos</td>\n",
              "      <td>6,85</td>\n",
              "      <td>Scott</td>\n",
              "      <td>Martin</td>\n",
              "      <td>M</td>\n",
              "      <td>7483 Navarro Flats</td>\n",
              "      <td>Freedom</td>\n",
              "      <td>WY</td>\n",
              "      <td>83120</td>\n",
              "      <td>43,0172</td>\n",
              "      <td>-111,0292</td>\n",
              "      <td>471</td>\n",
              "      <td>Education officer, museum</td>\n",
              "      <td>1967-08-02</td>\n",
              "      <td>f3c43d336e92a44fc2fb67058d5949e3</td>\n",
              "      <td>1325377292</td>\n",
              "      <td>43,753735</td>\n",
              "      <td>-111,454923</td>\n",
              "      <td>0</td>\n",
              "    </tr>\n",
              "    <tr>\n",
              "      <th>32</th>\n",
              "      <td>2019-01-01 00:22:44</td>\n",
              "      <td>630412733309</td>\n",
              "      <td>fraud_Torphy-Goyette</td>\n",
              "      <td>shopping_pos</td>\n",
              "      <td>66,21</td>\n",
              "      <td>Heather</td>\n",
              "      <td>Stanton</td>\n",
              "      <td>F</td>\n",
              "      <td>445 Jerry Lights Apt. 081</td>\n",
              "      <td>Republic</td>\n",
              "      <td>MI</td>\n",
              "      <td>49879</td>\n",
              "      <td>46,368</td>\n",
              "      <td>-87,9938</td>\n",
              "      <td>1038</td>\n",
              "      <td>Armed forces training and education officer</td>\n",
              "      <td>1964-04-22</td>\n",
              "      <td>20f048d3907dbb9978e23bee7b7578ce</td>\n",
              "      <td>1325377364</td>\n",
              "      <td>46,412038</td>\n",
              "      <td>-88,516663</td>\n",
              "      <td>0</td>\n",
              "    </tr>\n",
              "    <tr>\n",
              "      <th>34</th>\n",
              "      <td>2019-01-01 00:23:58</td>\n",
              "      <td>374125201044065</td>\n",
              "      <td>fraud_Bahringer, Schoen and Corkery</td>\n",
              "      <td>shopping_pos</td>\n",
              "      <td>9,03</td>\n",
              "      <td>Christopher</td>\n",
              "      <td>Gilbert</td>\n",
              "      <td>M</td>\n",
              "      <td>20937 Reed Lakes Apt. 271</td>\n",
              "      <td>Washington</td>\n",
              "      <td>DC</td>\n",
              "      <td>20012</td>\n",
              "      <td>38,9757</td>\n",
              "      <td>-77,0282</td>\n",
              "      <td>601723</td>\n",
              "      <td>Optician, dispensing</td>\n",
              "      <td>1970-07-20</td>\n",
              "      <td>c733711c521c41c578f4a964d8350df0</td>\n",
              "      <td>1325377438</td>\n",
              "      <td>38,880898</td>\n",
              "      <td>-76,44111600000002</td>\n",
              "      <td>0</td>\n",
              "    </tr>\n",
              "  </tbody>\n",
              "</table>\n",
              "</div>"
            ]
          },
          "metadata": {
            "tags": []
          },
          "execution_count": 4
        }
      ],
      "metadata": {
        "colab": {
          "base_uri": "https://localhost:8080/",
          "height": 535
        },
        "id": "-jFY5V0s5TX9",
        "outputId": "31c8d55b-64dc-4929-c42f-ad3623aaabe5"
      }
    },
    {
      "cell_type": "markdown",
      "source": [
        "#Dataset characterization"
      ],
      "metadata": {
        "id": "-BshK9lQ5dnj"
      }
    },
    {
      "cell_type": "code",
      "execution_count": 5,
      "source": [
        "df.info()"
      ],
      "outputs": [
        {
          "output_type": "stream",
          "name": "stdout",
          "text": [
            "<class 'pandas.core.frame.DataFrame'>\n",
            "Int64Index: 200881 entries, 3 to 1296674\n",
            "Data columns (total 22 columns):\n",
            " #   Column                 Non-Null Count   Dtype \n",
            "---  ------                 --------------   ----- \n",
            " 0   trans_date_trans_time  200881 non-null  object\n",
            " 1   cc_num                 200881 non-null  int64 \n",
            " 2   merchant               200881 non-null  object\n",
            " 3   category               200881 non-null  object\n",
            " 4   amt                    200881 non-null  object\n",
            " 5   first                  200881 non-null  object\n",
            " 6   last                   200881 non-null  object\n",
            " 7   gender                 200881 non-null  object\n",
            " 8   street                 200881 non-null  object\n",
            " 9   city                   200881 non-null  object\n",
            " 10  state                  200881 non-null  object\n",
            " 11  zip                    200881 non-null  int64 \n",
            " 12  lat                    200881 non-null  object\n",
            " 13  long                   200881 non-null  object\n",
            " 14  city_pop               200881 non-null  int64 \n",
            " 15  job                    200881 non-null  object\n",
            " 16  dob                    200881 non-null  object\n",
            " 17  trans_num              200881 non-null  object\n",
            " 18  unix_time              200881 non-null  int64 \n",
            " 19  merch_lat              200881 non-null  object\n",
            " 20  merch_long             200881 non-null  object\n",
            " 21  is_fraud               200881 non-null  int64 \n",
            "dtypes: int64(5), object(17)\n",
            "memory usage: 35.2+ MB\n"
          ]
        }
      ],
      "metadata": {
        "colab": {
          "base_uri": "https://localhost:8080/"
        },
        "id": "JBeHfmTt6KdV",
        "outputId": "267cf9dd-bd44-481c-bbfe-96751ac655d7"
      }
    },
    {
      "cell_type": "markdown",
      "source": [
        "## Variable groups\n",
        "\n",
        "First let's group up variables\n",
        "\n",
        "### Client information\n",
        "\n",
        "* [int] cc_num: Client's credit card number\n",
        "\n",
        "* [str] first: Client's first name\n",
        "\n",
        "* [str] last: Client's last name\n",
        "\n",
        "* [str] gender: Client's sexual gender\n",
        "\n",
        "* [str] street: Client's address\n",
        "\n",
        "* [str] city: Client's home city\n",
        "\n",
        "* [str] state: Client's home state\n",
        "\n",
        "* [int] zip: Client's home zip code\n",
        "\n",
        "* [str] lat: Client's latitude (georeferencing). Requires float parsing\n",
        "\n",
        "* [str] lon: Client's longitude (georeferencing). Requires float parsing \n",
        "\n",
        "* [int] city_pop: Client's home city population\n",
        "\n",
        "* [str] job: Client's profession\n",
        "\n",
        "* [str] dob: Client's date of birth\n",
        "\n",
        "### Requesting company\n",
        "\n",
        "* [str] merchant: Requesting Company name\n",
        "\n",
        "* [str] category: Requesting Company economic activity\n",
        "\n",
        "* [str] merch_lat: Requesting Company latitude (georeferencing). Requires float parsing\n",
        "\n",
        "* [str] merch_long: Requesting Company longitude (georeferencing). Requires float parsing\n",
        "\n",
        "### Transaction\n",
        "\n",
        "* [str] trans_date_trans_time: Transaction timestamp. Requires datetime parsing\n",
        "\n",
        "* [str] amt: Transaction's requested value\n",
        "\n",
        "* [str] trans_num: Transaction's unique id\n",
        "\n",
        "* [int] unix_time: transaction elapsed time\n",
        "\n",
        "* [int] is_fraud: Boolean tag for previously identified frauds."
      ],
      "metadata": {
        "id": "J7qYcNEB_lga"
      }
    },
    {
      "cell_type": "markdown",
      "source": [
        "#First features filter"
      ],
      "metadata": {
        "id": "M8VyPGnZBnbl"
      }
    },
    {
      "cell_type": "markdown",
      "source": [
        "Lets stablish some basic heuristics for a first filter, discarding variables that do no hold relation with fraud or are redundant\n",
        "\n",
        "## Client information\n",
        "Client id contains several fields for client identification. Yet, we look for characteristics that might help out noticing fraud risk. Keeping that in mind, we discard the following variables:\n",
        "\n",
        "* first / last: Client name has no relation to fraud risk, this is just client's information\n",
        "\n",
        "* street / zip: Client's location can be related using lat and long\n",
        "\n",
        "## Transaction\n",
        "\n",
        "* trans_num: Transaction's unique id is generated on demand and does not depend on neither client nor commerce"
      ],
      "metadata": {
        "id": "b_hFLf23E8W8"
      }
    },
    {
      "cell_type": "markdown",
      "source": [
        "Variables not tagged for deletion are not necessarily useful on fraud prediction. Their importance is yet to be determined"
      ],
      "metadata": {
        "id": "PY5NLU0mI9N0"
      }
    },
    {
      "cell_type": "code",
      "execution_count": 6,
      "source": [
        "df = df.drop(columns=['first', 'last', 'street', 'zip', 'trans_num'], errors='ignore')\n",
        "df"
      ],
      "outputs": [
        {
          "output_type": "execute_result",
          "data": {
            "text/plain": [
              "        trans_date_trans_time  ...  is_fraud\n",
              "3         2019-01-01 00:01:16  ...         0\n",
              "10        2019-01-01 00:06:23  ...         0\n",
              "27        2019-01-01 00:21:32  ...         0\n",
              "32        2019-01-01 00:22:44  ...         0\n",
              "34        2019-01-01 00:23:58  ...         0\n",
              "...                       ...  ...       ...\n",
              "1296651   2020-06-21 12:03:37  ...         0\n",
              "1296656   2020-06-21 12:07:09  ...         0\n",
              "1296664   2020-06-21 12:08:36  ...         0\n",
              "1296666   2020-06-21 12:09:22  ...         0\n",
              "1296674   2020-06-21 12:13:37  ...         0\n",
              "\n",
              "[200881 rows x 17 columns]"
            ],
            "text/html": [
              "<div>\n",
              "<style scoped>\n",
              "    .dataframe tbody tr th:only-of-type {\n",
              "        vertical-align: middle;\n",
              "    }\n",
              "\n",
              "    .dataframe tbody tr th {\n",
              "        vertical-align: top;\n",
              "    }\n",
              "\n",
              "    .dataframe thead th {\n",
              "        text-align: right;\n",
              "    }\n",
              "</style>\n",
              "<table border=\"1\" class=\"dataframe\">\n",
              "  <thead>\n",
              "    <tr style=\"text-align: right;\">\n",
              "      <th></th>\n",
              "      <th>trans_date_trans_time</th>\n",
              "      <th>cc_num</th>\n",
              "      <th>merchant</th>\n",
              "      <th>category</th>\n",
              "      <th>amt</th>\n",
              "      <th>gender</th>\n",
              "      <th>city</th>\n",
              "      <th>state</th>\n",
              "      <th>lat</th>\n",
              "      <th>long</th>\n",
              "      <th>city_pop</th>\n",
              "      <th>job</th>\n",
              "      <th>dob</th>\n",
              "      <th>unix_time</th>\n",
              "      <th>merch_lat</th>\n",
              "      <th>merch_long</th>\n",
              "      <th>is_fraud</th>\n",
              "    </tr>\n",
              "  </thead>\n",
              "  <tbody>\n",
              "    <tr>\n",
              "      <th>3</th>\n",
              "      <td>2019-01-01 00:01:16</td>\n",
              "      <td>3534093764340240</td>\n",
              "      <td>fraud_Kutch, Hermiston and Farrell</td>\n",
              "      <td>gas_transport</td>\n",
              "      <td>45,0</td>\n",
              "      <td>M</td>\n",
              "      <td>Boulder</td>\n",
              "      <td>MT</td>\n",
              "      <td>46,2306</td>\n",
              "      <td>-112,1138</td>\n",
              "      <td>1939</td>\n",
              "      <td>Patent attorney</td>\n",
              "      <td>1967-01-12</td>\n",
              "      <td>1325376076</td>\n",
              "      <td>47,034331</td>\n",
              "      <td>-112,561071</td>\n",
              "      <td>0</td>\n",
              "    </tr>\n",
              "    <tr>\n",
              "      <th>10</th>\n",
              "      <td>2019-01-01 00:06:23</td>\n",
              "      <td>4642894980163</td>\n",
              "      <td>fraud_Rutherford-Mertz</td>\n",
              "      <td>grocery_pos</td>\n",
              "      <td>24,74</td>\n",
              "      <td>M</td>\n",
              "      <td>Clarinda</td>\n",
              "      <td>IA</td>\n",
              "      <td>40,7491</td>\n",
              "      <td>-95,038</td>\n",
              "      <td>7297</td>\n",
              "      <td>IT trainer</td>\n",
              "      <td>1990-07-13</td>\n",
              "      <td>1325376383</td>\n",
              "      <td>40,275891</td>\n",
              "      <td>-96,011548</td>\n",
              "      <td>0</td>\n",
              "    </tr>\n",
              "    <tr>\n",
              "      <th>27</th>\n",
              "      <td>2019-01-01 00:21:32</td>\n",
              "      <td>4334230547694630</td>\n",
              "      <td>fraud_Bruen-Yost</td>\n",
              "      <td>misc_pos</td>\n",
              "      <td>6,85</td>\n",
              "      <td>M</td>\n",
              "      <td>Freedom</td>\n",
              "      <td>WY</td>\n",
              "      <td>43,0172</td>\n",
              "      <td>-111,0292</td>\n",
              "      <td>471</td>\n",
              "      <td>Education officer, museum</td>\n",
              "      <td>1967-08-02</td>\n",
              "      <td>1325377292</td>\n",
              "      <td>43,753735</td>\n",
              "      <td>-111,454923</td>\n",
              "      <td>0</td>\n",
              "    </tr>\n",
              "    <tr>\n",
              "      <th>32</th>\n",
              "      <td>2019-01-01 00:22:44</td>\n",
              "      <td>630412733309</td>\n",
              "      <td>fraud_Torphy-Goyette</td>\n",
              "      <td>shopping_pos</td>\n",
              "      <td>66,21</td>\n",
              "      <td>F</td>\n",
              "      <td>Republic</td>\n",
              "      <td>MI</td>\n",
              "      <td>46,368</td>\n",
              "      <td>-87,9938</td>\n",
              "      <td>1038</td>\n",
              "      <td>Armed forces training and education officer</td>\n",
              "      <td>1964-04-22</td>\n",
              "      <td>1325377364</td>\n",
              "      <td>46,412038</td>\n",
              "      <td>-88,516663</td>\n",
              "      <td>0</td>\n",
              "    </tr>\n",
              "    <tr>\n",
              "      <th>34</th>\n",
              "      <td>2019-01-01 00:23:58</td>\n",
              "      <td>374125201044065</td>\n",
              "      <td>fraud_Bahringer, Schoen and Corkery</td>\n",
              "      <td>shopping_pos</td>\n",
              "      <td>9,03</td>\n",
              "      <td>M</td>\n",
              "      <td>Washington</td>\n",
              "      <td>DC</td>\n",
              "      <td>38,9757</td>\n",
              "      <td>-77,0282</td>\n",
              "      <td>601723</td>\n",
              "      <td>Optician, dispensing</td>\n",
              "      <td>1970-07-20</td>\n",
              "      <td>1325377438</td>\n",
              "      <td>38,880898</td>\n",
              "      <td>-76,44111600000002</td>\n",
              "      <td>0</td>\n",
              "    </tr>\n",
              "    <tr>\n",
              "      <th>...</th>\n",
              "      <td>...</td>\n",
              "      <td>...</td>\n",
              "      <td>...</td>\n",
              "      <td>...</td>\n",
              "      <td>...</td>\n",
              "      <td>...</td>\n",
              "      <td>...</td>\n",
              "      <td>...</td>\n",
              "      <td>...</td>\n",
              "      <td>...</td>\n",
              "      <td>...</td>\n",
              "      <td>...</td>\n",
              "      <td>...</td>\n",
              "      <td>...</td>\n",
              "      <td>...</td>\n",
              "      <td>...</td>\n",
              "      <td>...</td>\n",
              "    </tr>\n",
              "    <tr>\n",
              "      <th>1296651</th>\n",
              "      <td>2020-06-21 12:03:37</td>\n",
              "      <td>6534628260579800</td>\n",
              "      <td>fraud_Wintheiser, Dietrich and Schimmel</td>\n",
              "      <td>misc_pos</td>\n",
              "      <td>7,38</td>\n",
              "      <td>F</td>\n",
              "      <td>Hinesburg</td>\n",
              "      <td>VT</td>\n",
              "      <td>44,3346</td>\n",
              "      <td>-73,098</td>\n",
              "      <td>4542</td>\n",
              "      <td>Claims inspector/assessor</td>\n",
              "      <td>1998-03-19</td>\n",
              "      <td>1371816217</td>\n",
              "      <td>44,006334</td>\n",
              "      <td>-72,579624</td>\n",
              "      <td>0</td>\n",
              "    </tr>\n",
              "    <tr>\n",
              "      <th>1296656</th>\n",
              "      <td>2020-06-21 12:07:09</td>\n",
              "      <td>4158945090781624</td>\n",
              "      <td>fraud_Wintheiser, Dietrich and Schimmel</td>\n",
              "      <td>misc_pos</td>\n",
              "      <td>5,48</td>\n",
              "      <td>M</td>\n",
              "      <td>Pittsburgh</td>\n",
              "      <td>PA</td>\n",
              "      <td>40,4308</td>\n",
              "      <td>-79,9205</td>\n",
              "      <td>687276</td>\n",
              "      <td>Scientist, marine</td>\n",
              "      <td>1973-10-19</td>\n",
              "      <td>1371816429</td>\n",
              "      <td>40,810441</td>\n",
              "      <td>-79,181444</td>\n",
              "      <td>0</td>\n",
              "    </tr>\n",
              "    <tr>\n",
              "      <th>1296664</th>\n",
              "      <td>2020-06-21 12:08:36</td>\n",
              "      <td>3531129874770000</td>\n",
              "      <td>fraud_Larkin, Stracke and Greenfelder</td>\n",
              "      <td>entertainment</td>\n",
              "      <td>69,38</td>\n",
              "      <td>F</td>\n",
              "      <td>Brandon</td>\n",
              "      <td>VT</td>\n",
              "      <td>43,8065</td>\n",
              "      <td>-73,0882</td>\n",
              "      <td>5895</td>\n",
              "      <td>Scientist, marine</td>\n",
              "      <td>1975-07-13</td>\n",
              "      <td>1371816516</td>\n",
              "      <td>43,808957</td>\n",
              "      <td>-72,277168</td>\n",
              "      <td>0</td>\n",
              "    </tr>\n",
              "    <tr>\n",
              "      <th>1296666</th>\n",
              "      <td>2020-06-21 12:09:22</td>\n",
              "      <td>4587657402165341815</td>\n",
              "      <td>fraud_Hyatt, Russel and Gleichner</td>\n",
              "      <td>health_fitness</td>\n",
              "      <td>7,3</td>\n",
              "      <td>F</td>\n",
              "      <td>Pembroke Township</td>\n",
              "      <td>IL</td>\n",
              "      <td>41,0646</td>\n",
              "      <td>-87,5917</td>\n",
              "      <td>2135</td>\n",
              "      <td>Psychotherapist, child</td>\n",
              "      <td>2004-05-08</td>\n",
              "      <td>1371816562</td>\n",
              "      <td>40,556811</td>\n",
              "      <td>-88,092339</td>\n",
              "      <td>0</td>\n",
              "    </tr>\n",
              "    <tr>\n",
              "      <th>1296674</th>\n",
              "      <td>2020-06-21 12:13:37</td>\n",
              "      <td>4292902571056973207</td>\n",
              "      <td>fraud_Langosh, Wintheiser and Hyatt</td>\n",
              "      <td>food_dining</td>\n",
              "      <td>4,3</td>\n",
              "      <td>M</td>\n",
              "      <td>Sula</td>\n",
              "      <td>MT</td>\n",
              "      <td>45,8433</td>\n",
              "      <td>-113,8748</td>\n",
              "      <td>218</td>\n",
              "      <td>Therapist, horticultural</td>\n",
              "      <td>1995-08-16</td>\n",
              "      <td>1371816817</td>\n",
              "      <td>46,565983</td>\n",
              "      <td>-114,18611</td>\n",
              "      <td>0</td>\n",
              "    </tr>\n",
              "  </tbody>\n",
              "</table>\n",
              "<p>200881 rows × 17 columns</p>\n",
              "</div>"
            ]
          },
          "metadata": {
            "tags": []
          },
          "execution_count": 6
        }
      ],
      "metadata": {
        "colab": {
          "base_uri": "https://localhost:8080/",
          "height": 723
        },
        "id": "swxEFF-DCOsJ",
        "outputId": "5d3604dd-140a-4ac0-ec5b-bfdc4645507f"
      }
    },
    {
      "cell_type": "markdown",
      "source": [
        "# Dataset preparation"
      ],
      "metadata": {
        "id": "TtgxnzIKJQwb"
      }
    },
    {
      "cell_type": "markdown",
      "source": [
        "In adition to previously mentioned parsings required, it is desirable to avoid categorical string variables. So we are going to find ways to transform string categoricals into numerical"
      ],
      "metadata": {
        "id": "ZPY_H0KSGZ8S"
      }
    },
    {
      "cell_type": "markdown",
      "source": [
        "## Lat / long / amt float parsing"
      ],
      "metadata": {
        "id": "RTmkkAyGNKU2"
      }
    },
    {
      "cell_type": "code",
      "execution_count": 7,
      "source": [
        "df[\"amt\"] = pd.to_numeric(df[\"amt\"].apply(lambda x: x.replace(',','.')), downcast='float')\n",
        "df[\"lat\"] = pd.to_numeric(df[\"lat\"].apply(lambda x: x.replace(',','.')), downcast='float')\n",
        "df[\"long\"] = pd.to_numeric(df[\"long\"].apply(lambda x: x.replace(',','.')), downcast='float',)\n",
        "df[\"merch_lat\"] = pd.to_numeric(df[\"merch_lat\"].apply(lambda x: x.replace(',','.')), downcast='float')\n",
        "df[\"merch_long\"] = pd.to_numeric(df[\"merch_long\"].apply(lambda x: x.replace(',','.')), downcast='float')"
      ],
      "outputs": [],
      "metadata": {
        "id": "oPaUIne1NN0N"
      }
    },
    {
      "cell_type": "code",
      "execution_count": 8,
      "source": [
        "df.info()"
      ],
      "outputs": [
        {
          "output_type": "stream",
          "name": "stdout",
          "text": [
            "<class 'pandas.core.frame.DataFrame'>\n",
            "Int64Index: 200881 entries, 3 to 1296674\n",
            "Data columns (total 17 columns):\n",
            " #   Column                 Non-Null Count   Dtype  \n",
            "---  ------                 --------------   -----  \n",
            " 0   trans_date_trans_time  200881 non-null  object \n",
            " 1   cc_num                 200881 non-null  int64  \n",
            " 2   merchant               200881 non-null  object \n",
            " 3   category               200881 non-null  object \n",
            " 4   amt                    200881 non-null  float32\n",
            " 5   gender                 200881 non-null  object \n",
            " 6   city                   200881 non-null  object \n",
            " 7   state                  200881 non-null  object \n",
            " 8   lat                    200881 non-null  float32\n",
            " 9   long                   200881 non-null  float32\n",
            " 10  city_pop               200881 non-null  int64  \n",
            " 11  job                    200881 non-null  object \n",
            " 12  dob                    200881 non-null  object \n",
            " 13  unix_time              200881 non-null  int64  \n",
            " 14  merch_lat              200881 non-null  float32\n",
            " 15  merch_long             200881 non-null  float32\n",
            " 16  is_fraud               200881 non-null  int64  \n",
            "dtypes: float32(5), int64(4), object(8)\n",
            "memory usage: 23.8+ MB\n"
          ]
        }
      ],
      "metadata": {
        "colab": {
          "base_uri": "https://localhost:8080/"
        },
        "id": "dxHGX44hQN89",
        "outputId": "e24f611f-5744-4ee3-d941-68336dc8fcaf"
      }
    },
    {
      "cell_type": "markdown",
      "source": [
        "## Categorical binarization\n",
        "\n",
        "> Gender, city and state are binarizable since they have limited possible values.\n",
        "\n",
        "> In prediction techniques it is desirable to have the less ammount of categorical str variables"
      ],
      "metadata": {
        "id": "A4zQ3l1_Qq2G"
      }
    },
    {
      "cell_type": "markdown",
      "source": [
        "> One-hot encoding is used on variable binarization. Yet, it adds as many columns as categories, so a unique multivalue column is used instead"
      ],
      "metadata": {
        "id": "rXlmFmRAGtrJ"
      }
    },
    {
      "cell_type": "code",
      "execution_count": 9,
      "source": [
        "df_cities = pd.read_csv('https://github.com/Dialvec/USA_Locations_Codes/raw/main/USA_cities.csv', index_col=\"city_code\")\n",
        "df_cities.head()"
      ],
      "outputs": [
        {
          "output_type": "execute_result",
          "data": {
            "text/plain": [
              "           city state_short              state_full\n",
              "city_code                                          \n",
              "1           Apo          AE  US Armed Forces Europe\n",
              "2           DPO          AE  US Armed Forces Europe\n",
              "3           FPO          AE  US Armed Forces Europe\n",
              "4           Fpo          AE  US Armed Forces Europe\n",
              "5          Adak          AK                  Alaska"
            ],
            "text/html": [
              "<div>\n",
              "<style scoped>\n",
              "    .dataframe tbody tr th:only-of-type {\n",
              "        vertical-align: middle;\n",
              "    }\n",
              "\n",
              "    .dataframe tbody tr th {\n",
              "        vertical-align: top;\n",
              "    }\n",
              "\n",
              "    .dataframe thead th {\n",
              "        text-align: right;\n",
              "    }\n",
              "</style>\n",
              "<table border=\"1\" class=\"dataframe\">\n",
              "  <thead>\n",
              "    <tr style=\"text-align: right;\">\n",
              "      <th></th>\n",
              "      <th>city</th>\n",
              "      <th>state_short</th>\n",
              "      <th>state_full</th>\n",
              "    </tr>\n",
              "    <tr>\n",
              "      <th>city_code</th>\n",
              "      <th></th>\n",
              "      <th></th>\n",
              "      <th></th>\n",
              "    </tr>\n",
              "  </thead>\n",
              "  <tbody>\n",
              "    <tr>\n",
              "      <th>1</th>\n",
              "      <td>Apo</td>\n",
              "      <td>AE</td>\n",
              "      <td>US Armed Forces Europe</td>\n",
              "    </tr>\n",
              "    <tr>\n",
              "      <th>2</th>\n",
              "      <td>DPO</td>\n",
              "      <td>AE</td>\n",
              "      <td>US Armed Forces Europe</td>\n",
              "    </tr>\n",
              "    <tr>\n",
              "      <th>3</th>\n",
              "      <td>FPO</td>\n",
              "      <td>AE</td>\n",
              "      <td>US Armed Forces Europe</td>\n",
              "    </tr>\n",
              "    <tr>\n",
              "      <th>4</th>\n",
              "      <td>Fpo</td>\n",
              "      <td>AE</td>\n",
              "      <td>US Armed Forces Europe</td>\n",
              "    </tr>\n",
              "    <tr>\n",
              "      <th>5</th>\n",
              "      <td>Adak</td>\n",
              "      <td>AK</td>\n",
              "      <td>Alaska</td>\n",
              "    </tr>\n",
              "  </tbody>\n",
              "</table>\n",
              "</div>"
            ]
          },
          "metadata": {
            "tags": []
          },
          "execution_count": 9
        }
      ],
      "metadata": {
        "colab": {
          "base_uri": "https://localhost:8080/",
          "height": 223
        },
        "id": "GfBaam9sSbWS",
        "outputId": "447087a4-c51a-4bf0-fff3-c062cbe46871"
      }
    },
    {
      "cell_type": "code",
      "execution_count": 10,
      "source": [
        "df_states = pd.read_csv('https://github.com/Dialvec/USA_Locations_Codes/raw/main/US_States_FIPS_Code.csv', index_col=\"FIPS\")\n",
        "df_states.head()"
      ],
      "outputs": [
        {
          "output_type": "execute_result",
          "data": {
            "text/plain": [
              "            Name Short\n",
              "FIPS                  \n",
              "1        Alabama    AL\n",
              "2         Alaska    AK\n",
              "4        Arizona    AZ\n",
              "5       Arkansas    AR\n",
              "6     California    CA"
            ],
            "text/html": [
              "<div>\n",
              "<style scoped>\n",
              "    .dataframe tbody tr th:only-of-type {\n",
              "        vertical-align: middle;\n",
              "    }\n",
              "\n",
              "    .dataframe tbody tr th {\n",
              "        vertical-align: top;\n",
              "    }\n",
              "\n",
              "    .dataframe thead th {\n",
              "        text-align: right;\n",
              "    }\n",
              "</style>\n",
              "<table border=\"1\" class=\"dataframe\">\n",
              "  <thead>\n",
              "    <tr style=\"text-align: right;\">\n",
              "      <th></th>\n",
              "      <th>Name</th>\n",
              "      <th>Short</th>\n",
              "    </tr>\n",
              "    <tr>\n",
              "      <th>FIPS</th>\n",
              "      <th></th>\n",
              "      <th></th>\n",
              "    </tr>\n",
              "  </thead>\n",
              "  <tbody>\n",
              "    <tr>\n",
              "      <th>1</th>\n",
              "      <td>Alabama</td>\n",
              "      <td>AL</td>\n",
              "    </tr>\n",
              "    <tr>\n",
              "      <th>2</th>\n",
              "      <td>Alaska</td>\n",
              "      <td>AK</td>\n",
              "    </tr>\n",
              "    <tr>\n",
              "      <th>4</th>\n",
              "      <td>Arizona</td>\n",
              "      <td>AZ</td>\n",
              "    </tr>\n",
              "    <tr>\n",
              "      <th>5</th>\n",
              "      <td>Arkansas</td>\n",
              "      <td>AR</td>\n",
              "    </tr>\n",
              "    <tr>\n",
              "      <th>6</th>\n",
              "      <td>California</td>\n",
              "      <td>CA</td>\n",
              "    </tr>\n",
              "  </tbody>\n",
              "</table>\n",
              "</div>"
            ]
          },
          "metadata": {
            "tags": []
          },
          "execution_count": 10
        }
      ],
      "metadata": {
        "colab": {
          "base_uri": "https://localhost:8080/",
          "height": 223
        },
        "id": "OpRVY6lkXc-U",
        "outputId": "93823391-47ab-48cd-989b-cdaf040dc0ce"
      }
    },
    {
      "cell_type": "code",
      "execution_count": 11,
      "source": [
        "def get_city_code(cityname):\n",
        "  if cityname in df_cities['city'].values:\n",
        "    return df_cities[df_cities['city']==cityname].index[0]\n",
        "  else:\n",
        "    return 0"
      ],
      "outputs": [],
      "metadata": {
        "id": "ONSN51ZYVTWP"
      }
    },
    {
      "cell_type": "code",
      "execution_count": 12,
      "source": [
        "def get_city_name(citycode):\n",
        "  if citycode in df_cities.index.values:\n",
        "    return df_cities.loc[citycode]['city']\n",
        "  else:\n",
        "    return \"null\""
      ],
      "outputs": [],
      "metadata": {
        "id": "MeGzSGcKZbs-"
      }
    },
    {
      "cell_type": "code",
      "execution_count": 13,
      "source": [
        "def get_state_code(stateshort):\n",
        "  if stateshort in df_states['Short'].values:\n",
        "    return df_states[df_states['Short']==stateshort].index[0]\n",
        "  else:\n",
        "    return 0"
      ],
      "outputs": [],
      "metadata": {
        "id": "Q4Uz7u-RXOJG"
      }
    },
    {
      "cell_type": "code",
      "execution_count": 14,
      "source": [
        "def get_state_full_name(statecode):\n",
        "  if statecode in df_states.index.values:\n",
        "    return df_states.loc[statecode]['Name']\n",
        "  else:\n",
        "    return \"null\""
      ],
      "outputs": [],
      "metadata": {
        "id": "bjXDs4mdZ3O0"
      }
    },
    {
      "cell_type": "code",
      "execution_count": 15,
      "source": [
        "def get_state_short_name(statecode):\n",
        "  if statecode in df_states.index.values:\n",
        "    return df_states.loc[statecode]['Short']\n",
        "  else:\n",
        "    return \"null\""
      ],
      "outputs": [],
      "metadata": {
        "id": "PQOGgczqaBE5"
      }
    },
    {
      "cell_type": "code",
      "execution_count": 16,
      "source": [
        "df['gender'] = pd.to_numeric(df['gender'].apply(lambda x: 0 if x==\"M\" else 1 if x==\"F\" else -1))\n",
        "df['state_code'] = pd.to_numeric(df['state'].apply(lambda x: get_state_code(x)))\n",
        "df['city_code'] = pd.to_numeric(df['city'].apply(lambda x: get_city_code(x)))\n",
        "df.drop(columns=['state', 'city'], inplace=True)"
      ],
      "outputs": [],
      "metadata": {
        "id": "g1uLGY_dQ5n6"
      }
    },
    {
      "cell_type": "code",
      "execution_count": 17,
      "source": [
        "df.info()"
      ],
      "outputs": [
        {
          "output_type": "stream",
          "name": "stdout",
          "text": [
            "<class 'pandas.core.frame.DataFrame'>\n",
            "Int64Index: 200881 entries, 3 to 1296674\n",
            "Data columns (total 17 columns):\n",
            " #   Column                 Non-Null Count   Dtype  \n",
            "---  ------                 --------------   -----  \n",
            " 0   trans_date_trans_time  200881 non-null  object \n",
            " 1   cc_num                 200881 non-null  int64  \n",
            " 2   merchant               200881 non-null  object \n",
            " 3   category               200881 non-null  object \n",
            " 4   amt                    200881 non-null  float32\n",
            " 5   gender                 200881 non-null  int64  \n",
            " 6   lat                    200881 non-null  float32\n",
            " 7   long                   200881 non-null  float32\n",
            " 8   city_pop               200881 non-null  int64  \n",
            " 9   job                    200881 non-null  object \n",
            " 10  dob                    200881 non-null  object \n",
            " 11  unix_time              200881 non-null  int64  \n",
            " 12  merch_lat              200881 non-null  float32\n",
            " 13  merch_long             200881 non-null  float32\n",
            " 14  is_fraud               200881 non-null  int64  \n",
            " 15  state_code             200881 non-null  int64  \n",
            " 16  city_code              200881 non-null  int64  \n",
            "dtypes: float32(5), int64(7), object(5)\n",
            "memory usage: 23.8+ MB\n"
          ]
        }
      ],
      "metadata": {
        "colab": {
          "base_uri": "https://localhost:8080/"
        },
        "id": "sFokiB3xX871",
        "outputId": "394fbd2d-28da-4a15-dca6-9b47f864e977"
      }
    },
    {
      "cell_type": "markdown",
      "source": [
        "## Merchant name and category as features\n"
      ],
      "metadata": {
        "id": "SSn7NMHreB0A"
      }
    },
    {
      "cell_type": "markdown",
      "source": [
        "Let see if there a pattern on merchant names found being fraud"
      ],
      "metadata": {
        "id": "u10kvepGeEQE"
      }
    },
    {
      "cell_type": "code",
      "execution_count": 18,
      "source": [
        "len(df[df['is_fraud']==1]['merchant'].unique())/len(df['merchant'].unique())"
      ],
      "outputs": [
        {
          "output_type": "execute_result",
          "data": {
            "text/plain": [
              "0.9797979797979798"
            ]
          },
          "metadata": {
            "tags": []
          },
          "execution_count": 18
        }
      ],
      "metadata": {
        "colab": {
          "base_uri": "https://localhost:8080/"
        },
        "id": "o_2NE1GpeboN",
        "outputId": "e9d01ace-85de-410d-e943-ff54f6e63130"
      }
    },
    {
      "cell_type": "markdown",
      "source": [
        "97% of the merchan names are associated to having at least 1 fraud event"
      ],
      "metadata": {
        "id": "jMA7al5kiH9i"
      }
    },
    {
      "cell_type": "code",
      "execution_count": 19,
      "source": [
        "sns.countplot(\n",
        "    data=df[df['is_fraud']==1], \n",
        "    x = \"merchant\", \n",
        "    order=df[df['is_fraud']==1]['merchant'].value_counts().index\n",
        "    )\n",
        "plt.xticks(rotation=35, ha='right')\n",
        "plt.suptitle('Merchants with the highest fraud rates')"
      ],
      "outputs": [
        {
          "output_type": "execute_result",
          "data": {
            "text/plain": [
              "Text(0.5, 0.98, 'Merchants with the highest fraud rates')"
            ]
          },
          "metadata": {
            "tags": []
          },
          "execution_count": 19
        },
        {
          "output_type": "display_data",
          "data": {
            "text/plain": [
              "<Figure size 432x288 with 1 Axes>"
            ],
            "image/png": "[encoded data removed]"
          },
          "metadata": {
            "tags": [],
            "needs_background": "light"
          }
        }
      ],
      "metadata": {
        "colab": {
          "base_uri": "https://localhost:8080/",
          "height": 477
        },
        "id": "qhq1AIbegjE2",
        "outputId": "ce99c2cc-2b82-42c8-c1a3-d8ecccac8516"
      }
    },
    {
      "cell_type": "code",
      "execution_count": 20,
      "source": [
        "highest_fraud_merchant = df[df['is_fraud']==1]['merchant'].value_counts().index[0]\n",
        "df[df['merchant']==highest_fraud_merchant][df['is_fraud']==1].shape[0]/df[df['merchant']==highest_fraud_merchant].shape[0]"
      ],
      "outputs": [
        {
          "output_type": "stream",
          "name": "stderr",
          "text": [
            "/usr/local/lib/python3.7/dist-packages/ipykernel_launcher.py:2: UserWarning: Boolean Series key will be reindexed to match DataFrame index.\n",
            "  \n"
          ]
        },
        {
          "output_type": "execute_result",
          "data": {
            "text/plain": [
              "0.1198044009779951"
            ]
          },
          "metadata": {
            "tags": []
          },
          "execution_count": 20
        }
      ],
      "metadata": {
        "colab": {
          "base_uri": "https://localhost:8080/"
        },
        "id": "JsJ-apcghPM_",
        "outputId": "860b50e7-b230-4163-9df3-ed79d3ccd9ea"
      }
    },
    {
      "cell_type": "markdown",
      "source": [
        "**The highest merchant where fraud happens  has only 11.98% fraud rate. Then, merchant names are not a feasible feature**"
      ],
      "metadata": {
        "id": "ZSa_fho2esDq"
      }
    },
    {
      "cell_type": "code",
      "execution_count": 21,
      "source": [
        "sns.countplot(\n",
        "    data=df[df['is_fraud']==1], \n",
        "    x = \"category\", \n",
        "    order=df[df['is_fraud']==1]['category'].value_counts().index\n",
        "    )\n",
        "plt.xticks(rotation=35, ha='right')\n",
        "plt.suptitle('Categories with the highest fraud rates')"
      ],
      "outputs": [
        {
          "output_type": "execute_result",
          "data": {
            "text/plain": [
              "Text(0.5, 0.98, 'Categories with the highest fraud rates')"
            ]
          },
          "metadata": {
            "tags": []
          },
          "execution_count": 21
        },
        {
          "output_type": "display_data",
          "data": {
            "text/plain": [
              "<Figure size 432x288 with 1 Axes>"
            ],
            "image/png": "[encoded data removed]"
          },
          "metadata": {
            "tags": [],
            "needs_background": "light"
          }
        }
      ],
      "metadata": {
        "colab": {
          "base_uri": "https://localhost:8080/",
          "height": 376
        },
        "id": "j8ZrVfiqfsHD",
        "outputId": "9a4f8f2a-3a8d-4fc9-d324-aa9f8698b5ec"
      }
    },
    {
      "cell_type": "markdown",
      "source": [
        "Category is a binarizable feature that has potential of being a good feature since there are 5 categories that hold most of the frauds.\n",
        "\n",
        "A list of highest fraud risk companies is created to define category with a numeric index relatex to how high is the fraud risk"
      ],
      "metadata": {
        "id": "CfOg-AXsggEl"
      }
    },
    {
      "cell_type": "code",
      "execution_count": 22,
      "source": [
        "cat_list = df[df['is_fraud']==1]['category'].value_counts().index\n",
        "\n",
        "df_cat_risk=pd.DataFrame()\n",
        "df_cat_risk['category']=cat_list\n",
        "df_cat_risk.index=list(range(1, len(cat_list)+1) )\n",
        "df_cat_risk"
      ],
      "outputs": [
        {
          "output_type": "execute_result",
          "data": {
            "text/plain": [
              "          category\n",
              "1      grocery_pos\n",
              "2     shopping_net\n",
              "3         misc_net\n",
              "4     shopping_pos\n",
              "5    gas_transport\n",
              "6         misc_pos\n",
              "7        kids_pets\n",
              "8    entertainment\n",
              "9    personal_care\n",
              "10            home\n",
              "11     food_dining\n",
              "12     grocery_net\n",
              "13  health_fitness\n",
              "14          travel"
            ],
            "text/html": [
              "<div>\n",
              "<style scoped>\n",
              "    .dataframe tbody tr th:only-of-type {\n",
              "        vertical-align: middle;\n",
              "    }\n",
              "\n",
              "    .dataframe tbody tr th {\n",
              "        vertical-align: top;\n",
              "    }\n",
              "\n",
              "    .dataframe thead th {\n",
              "        text-align: right;\n",
              "    }\n",
              "</style>\n",
              "<table border=\"1\" class=\"dataframe\">\n",
              "  <thead>\n",
              "    <tr style=\"text-align: right;\">\n",
              "      <th></th>\n",
              "      <th>category</th>\n",
              "    </tr>\n",
              "  </thead>\n",
              "  <tbody>\n",
              "    <tr>\n",
              "      <th>1</th>\n",
              "      <td>grocery_pos</td>\n",
              "    </tr>\n",
              "    <tr>\n",
              "      <th>2</th>\n",
              "      <td>shopping_net</td>\n",
              "    </tr>\n",
              "    <tr>\n",
              "      <th>3</th>\n",
              "      <td>misc_net</td>\n",
              "    </tr>\n",
              "    <tr>\n",
              "      <th>4</th>\n",
              "      <td>shopping_pos</td>\n",
              "    </tr>\n",
              "    <tr>\n",
              "      <th>5</th>\n",
              "      <td>gas_transport</td>\n",
              "    </tr>\n",
              "    <tr>\n",
              "      <th>6</th>\n",
              "      <td>misc_pos</td>\n",
              "    </tr>\n",
              "    <tr>\n",
              "      <th>7</th>\n",
              "      <td>kids_pets</td>\n",
              "    </tr>\n",
              "    <tr>\n",
              "      <th>8</th>\n",
              "      <td>entertainment</td>\n",
              "    </tr>\n",
              "    <tr>\n",
              "      <th>9</th>\n",
              "      <td>personal_care</td>\n",
              "    </tr>\n",
              "    <tr>\n",
              "      <th>10</th>\n",
              "      <td>home</td>\n",
              "    </tr>\n",
              "    <tr>\n",
              "      <th>11</th>\n",
              "      <td>food_dining</td>\n",
              "    </tr>\n",
              "    <tr>\n",
              "      <th>12</th>\n",
              "      <td>grocery_net</td>\n",
              "    </tr>\n",
              "    <tr>\n",
              "      <th>13</th>\n",
              "      <td>health_fitness</td>\n",
              "    </tr>\n",
              "    <tr>\n",
              "      <th>14</th>\n",
              "      <td>travel</td>\n",
              "    </tr>\n",
              "  </tbody>\n",
              "</table>\n",
              "</div>"
            ]
          },
          "metadata": {
            "tags": []
          },
          "execution_count": 22
        }
      ],
      "metadata": {
        "colab": {
          "base_uri": "https://localhost:8080/",
          "height": 458
        },
        "id": "-vpbKpaGihYV",
        "outputId": "b14beaa2-5ee7-4565-9ac6-b7400343c00a"
      }
    },
    {
      "cell_type": "code",
      "execution_count": 23,
      "source": [
        "def get_category_risk_score(category):\r\n",
        "  if category in df_cat_risk['category'].values:\r\n",
        "    return df_cat_risk[df_cat_risk['category']==category].index[0]\r\n",
        "  else:\r\n",
        "    return 0"
      ],
      "outputs": [],
      "metadata": {
        "id": "6GcjyDYikk-z"
      }
    },
    {
      "cell_type": "code",
      "execution_count": 24,
      "source": [
        "sns.countplot(\r\n",
        "    data=df[df['is_fraud']==1], \r\n",
        "    x = \"job\", \r\n",
        "    order=df[df['is_fraud']==1]['job'].value_counts().index\r\n",
        "    )\r\n",
        "plt.xticks(rotation=35, ha='right')\r\n",
        "plt.suptitle('Jobs with the highest fraud rates')"
      ],
      "outputs": [
        {
          "output_type": "execute_result",
          "data": {
            "text/plain": [
              "Text(0.5, 0.98, 'Jobs with the highest fraud rates')"
            ]
          },
          "metadata": {
            "tags": []
          },
          "execution_count": 24
        },
        {
          "output_type": "display_data",
          "data": {
            "text/plain": [
              "<Figure size 432x288 with 1 Axes>"
            ],
            "image/png": "[encoded data removed]"
          },
          "metadata": {
            "tags": [],
            "needs_background": "light"
          }
        }
      ],
      "metadata": {
        "colab": {
          "base_uri": "https://localhost:8080/",
          "height": 497
        },
        "id": "XrT0lKLxw75N",
        "outputId": "6471bd3e-3a8f-46e3-f5ee-871fd361574e"
      }
    },
    {
      "cell_type": "code",
      "execution_count": 25,
      "source": [
        "highest_fraud_job = df[df['is_fraud']==1]['job'].value_counts().index[0]\r\n",
        "df[df['job']==highest_fraud_job][df['is_fraud']==1].shape[0]/df[df['is_fraud']==1].shape[0]"
      ],
      "outputs": [
        {
          "output_type": "stream",
          "name": "stderr",
          "text": [
            "/usr/local/lib/python3.7/dist-packages/ipykernel_launcher.py:2: UserWarning: Boolean Series key will be reindexed to match DataFrame index.\n",
            "  \n"
          ]
        },
        {
          "output_type": "execute_result",
          "data": {
            "text/plain": [
              "0.00826005861977085"
            ]
          },
          "metadata": {
            "tags": []
          },
          "execution_count": 25
        }
      ],
      "metadata": {
        "colab": {
          "base_uri": "https://localhost:8080/"
        },
        "id": "euQ3SLKixKDn",
        "outputId": "d9710299-d0e7-415a-ff62-d44402992cb1"
      }
    },
    {
      "cell_type": "markdown",
      "source": [
        "Higest fraud job only holds 0.8% of the total frauds"
      ],
      "metadata": {
        "id": "gWDNDi09xZKk"
      }
    },
    {
      "cell_type": "code",
      "execution_count": 26,
      "source": [
        "len(df[df['is_fraud']==1]['job'].unique())/len(df['job'].unique())"
      ],
      "outputs": [
        {
          "output_type": "execute_result",
          "data": {
            "text/plain": [
              "0.8967611336032388"
            ]
          },
          "metadata": {
            "tags": []
          },
          "execution_count": 26
        }
      ],
      "metadata": {
        "colab": {
          "base_uri": "https://localhost:8080/"
        },
        "id": "23d_g9fAxkj3",
        "outputId": "e5c1cf79-ae15-42ae-f2a7-ae1d5fb500b6"
      }
    },
    {
      "cell_type": "markdown",
      "source": [
        "89% of the jobs have fraud events. Therefore, is not a feasible feature"
      ],
      "metadata": {
        "id": "-wI-FYRcx2D8"
      }
    },
    {
      "cell_type": "code",
      "execution_count": 27,
      "source": [
        "df['cat_risk_score'] = df['category'].apply(lambda x: get_category_risk_score(x))\r\n",
        "df.drop(columns=['merchant','category','job'], inplace=True)\r\n",
        "df.info()"
      ],
      "outputs": [
        {
          "output_type": "stream",
          "name": "stdout",
          "text": [
            "<class 'pandas.core.frame.DataFrame'>\n",
            "Int64Index: 200881 entries, 3 to 1296674\n",
            "Data columns (total 15 columns):\n",
            " #   Column                 Non-Null Count   Dtype  \n",
            "---  ------                 --------------   -----  \n",
            " 0   trans_date_trans_time  200881 non-null  object \n",
            " 1   cc_num                 200881 non-null  int64  \n",
            " 2   amt                    200881 non-null  float32\n",
            " 3   gender                 200881 non-null  int64  \n",
            " 4   lat                    200881 non-null  float32\n",
            " 5   long                   200881 non-null  float32\n",
            " 6   city_pop               200881 non-null  int64  \n",
            " 7   dob                    200881 non-null  object \n",
            " 8   unix_time              200881 non-null  int64  \n",
            " 9   merch_lat              200881 non-null  float32\n",
            " 10  merch_long             200881 non-null  float32\n",
            " 11  is_fraud               200881 non-null  int64  \n",
            " 12  state_code             200881 non-null  int64  \n",
            " 13  city_code              200881 non-null  int64  \n",
            " 14  cat_risk_score         200881 non-null  int64  \n",
            "dtypes: float32(5), int64(8), object(2)\n",
            "memory usage: 25.7+ MB\n"
          ]
        }
      ],
      "metadata": {
        "colab": {
          "base_uri": "https://localhost:8080/"
        },
        "id": "m4Ojws5Ln2Kf",
        "outputId": "c6e8f53f-3aa8-443c-bb19-9016d0d1b6be"
      }
    },
    {
      "cell_type": "code",
      "execution_count": 28,
      "source": [
        "#df.to_csv('/content/drive/MyDrive/PayU/df_advance')"
      ],
      "outputs": [],
      "metadata": {
        "id": "jRLGR3ZBocLb"
      }
    },
    {
      "cell_type": "markdown",
      "source": [
        "## Date time parsing"
      ],
      "metadata": {
        "id": "X1nvcm3jJULW"
      }
    },
    {
      "cell_type": "markdown",
      "source": [
        "Date and time of the transactions could relate fraud with seasonability. Then let's extract timestamp fields"
      ],
      "metadata": {
        "id": "TjO-nPE3LAqX"
      }
    },
    {
      "cell_type": "code",
      "execution_count": 29,
      "source": [
        "df['trans_date_trans_time'] = pd.to_datetime(df['trans_date_trans_time'])\n",
        "df['dob'] = pd.to_datetime(df['dob'])\n",
        "df.info()"
      ],
      "outputs": [
        {
          "output_type": "stream",
          "name": "stdout",
          "text": [
            "<class 'pandas.core.frame.DataFrame'>\n",
            "Int64Index: 200881 entries, 3 to 1296674\n",
            "Data columns (total 15 columns):\n",
            " #   Column                 Non-Null Count   Dtype         \n",
            "---  ------                 --------------   -----         \n",
            " 0   trans_date_trans_time  200881 non-null  datetime64[ns]\n",
            " 1   cc_num                 200881 non-null  int64         \n",
            " 2   amt                    200881 non-null  float32       \n",
            " 3   gender                 200881 non-null  int64         \n",
            " 4   lat                    200881 non-null  float32       \n",
            " 5   long                   200881 non-null  float32       \n",
            " 6   city_pop               200881 non-null  int64         \n",
            " 7   dob                    200881 non-null  datetime64[ns]\n",
            " 8   unix_time              200881 non-null  int64         \n",
            " 9   merch_lat              200881 non-null  float32       \n",
            " 10  merch_long             200881 non-null  float32       \n",
            " 11  is_fraud               200881 non-null  int64         \n",
            " 12  state_code             200881 non-null  int64         \n",
            " 13  city_code              200881 non-null  int64         \n",
            " 14  cat_risk_score         200881 non-null  int64         \n",
            "dtypes: datetime64[ns](2), float32(5), int64(8)\n",
            "memory usage: 25.7 MB\n"
          ]
        }
      ],
      "metadata": {
        "colab": {
          "base_uri": "https://localhost:8080/"
        },
        "id": "yjjk9ktxJK3V",
        "outputId": "49094ad3-914a-4508-e29f-a66c8c933556"
      }
    },
    {
      "cell_type": "markdown",
      "source": [
        "Extracting transactions' month, weekday, day and hour in case there is seasonability"
      ],
      "metadata": {
        "id": "nvCkONfmbjaA"
      }
    },
    {
      "cell_type": "code",
      "execution_count": null,
      "source": [
        "df['trans_month'] = df['trans_date_trans_time'].dt.month\n",
        "df['trans_day'] = df['trans_date_trans_time'].dt.day\n",
        "df['trans_weekday'] = df['trans_date_trans_time'].dt.weekday\n",
        "df['trans_hour'] = df['trans_date_trans_time'].dt.hour\n",
        "df['client_yob'] = df['dob'].dt.year\n",
        "df.drop(columns=['trans_date_trans_time','dob'], inplace=True)"
      ],
      "outputs": [],
      "metadata": {
        "id": "0mhxqkBwbclX"
      }
    },
    {
      "cell_type": "code",
      "execution_count": 32,
      "source": [
        "df.info()"
      ],
      "outputs": [
        {
          "output_type": "stream",
          "name": "stdout",
          "text": [
            "<class 'pandas.core.frame.DataFrame'>\n",
            "Int64Index: 200881 entries, 3 to 1296674\n",
            "Data columns (total 18 columns):\n",
            " #   Column          Non-Null Count   Dtype  \n",
            "---  ------          --------------   -----  \n",
            " 0   cc_num          200881 non-null  int64  \n",
            " 1   amt             200881 non-null  float32\n",
            " 2   gender          200881 non-null  int64  \n",
            " 3   lat             200881 non-null  float32\n",
            " 4   long            200881 non-null  float32\n",
            " 5   city_pop        200881 non-null  int64  \n",
            " 6   unix_time       200881 non-null  int64  \n",
            " 7   merch_lat       200881 non-null  float32\n",
            " 8   merch_long      200881 non-null  float32\n",
            " 9   is_fraud        200881 non-null  int64  \n",
            " 10  state_code      200881 non-null  int64  \n",
            " 11  city_code       200881 non-null  int64  \n",
            " 12  cat_risk_score  200881 non-null  int64  \n",
            " 13  trans_month     200881 non-null  int64  \n",
            " 14  trans_day       200881 non-null  int64  \n",
            " 15  trans_weekday   200881 non-null  int64  \n",
            " 16  trans_hour      200881 non-null  int64  \n",
            " 17  client_yob      200881 non-null  int64  \n",
            "dtypes: float32(5), int64(13)\n",
            "memory usage: 30.3 MB\n"
          ]
        }
      ],
      "metadata": {
        "colab": {
          "base_uri": "https://localhost:8080/"
        },
        "id": "MNj1QHsv1nYa",
        "outputId": "fe4ef40f-1fcf-4120-eb15-f8a3a4702f51"
      }
    },
    {
      "cell_type": "markdown",
      "source": [
        "#Final save checkpoint"
      ],
      "metadata": {
        "id": "mN0E4JE9zxhu"
      }
    },
    {
      "cell_type": "code",
      "execution_count": 33,
      "source": [
        "df.to_csv('/content/drive/MyDrive/PayU/df_advance')"
      ],
      "outputs": [],
      "metadata": {
        "id": "dP2aiS-OzCWt"
      }
    },
    {
      "cell_type": "markdown",
      "source": [
        "# Importance measurement"
      ],
      "metadata": {
        "id": "aIBn67myyTck"
      }
    },
    {
      "cell_type": "markdown",
      "source": [
        "Now that we have only numerical values, statistical tests can be run to determine variable importance on predicting fraud.\n",
        "\n",
        "Since we have numerical input and categorical output, ANOVA can be used for feature selection"
      ],
      "metadata": {
        "id": "CechQZPvyV4D"
      }
    },
    {
      "cell_type": "code",
      "execution_count": 42,
      "source": [
        "x_colnames=df.columns[df.columns!=\"is_fraud\"]\n",
        "y_colnames=\"is_fraud\"\n",
        "\n",
        "X = df[x_colnames].to_numpy()\n",
        "y = df[y_colnames].to_numpy().ravel()"
      ],
      "outputs": [],
      "metadata": {
        "id": "9gbWw5Hz2n4Y"
      }
    },
    {
      "cell_type": "code",
      "execution_count": 50,
      "source": [
        "len(x_colnames)"
      ],
      "outputs": [
        {
          "output_type": "execute_result",
          "data": {
            "text/plain": [
              "17"
            ]
          },
          "metadata": {
            "tags": []
          },
          "execution_count": 50
        }
      ],
      "metadata": {
        "colab": {
          "base_uri": "https://localhost:8080/"
        },
        "id": "IDVDEKvL4Tvi",
        "outputId": "0e641482-6d51-401c-fa83-0bd787652f80"
      }
    },
    {
      "cell_type": "code",
      "execution_count": 67,
      "source": [
        "# Split dataset to select feature and evaluate the classifier\r\n",
        "X_train, X_test, y_train, y_test = train_test_split(\r\n",
        "        X, y, stratify=y, random_state=0\r\n",
        ")\r\n",
        "\r\n",
        "plt.figure(1)\r\n",
        "plt.clf()\r\n",
        "\r\n",
        "X_indices = np.arange(X.shape[-1])\r\n",
        "\r\n",
        "selector = SelectKBest(f_classif, k=17)\r\n",
        "selector.fit(X_train, y_train)\r\n",
        "scores = -np.log10(selector.pvalues_)\r\n",
        "scores /= scores.max()\r\n",
        "plt.bar(X_indices - .45, scores, width=.2,\r\n",
        "        label=r'Univariate score ($-Log(p_{value})$)')\r\n",
        "\r\n",
        "# Compare to the weights of an SVM\r\n",
        "clf = make_pipeline(MinMaxScaler(), LinearSVC())\r\n",
        "clf.fit(X_train, y_train)\r\n",
        "print('Classification accuracy without selecting features: {:.3f}'\r\n",
        "      .format(clf.score(X_test, y_test)))\r\n",
        "\r\n",
        "svm_weights = np.abs(clf[-1].coef_).sum(axis=0)\r\n",
        "svm_weights /= svm_weights.sum()\r\n",
        "\r\n",
        "plt.bar(X_indices - .25, svm_weights, width=.2, label='SVM weight')\r\n",
        "\r\n",
        "clf_selected = make_pipeline(\r\n",
        "        SelectKBest(f_classif, k=17), MinMaxScaler(), LinearSVC()\r\n",
        ")\r\n",
        "clf_selected.fit(X_train, y_train)\r\n",
        "print('Classification accuracy after univariate feature selection: {:.3f}'\r\n",
        "      .format(clf_selected.score(X_test, y_test)))\r\n",
        "\r\n",
        "svm_weights_selected = np.abs(clf_selected[-1].coef_).sum(axis=0)\r\n",
        "svm_weights_selected /= svm_weights_selected.sum()\r\n",
        "\r\n",
        "plt.bar(X_indices[selector.get_support()] - .05, svm_weights_selected,\r\n",
        "        width=.2, label='SVM weights after selection')\r\n",
        "\r\n",
        "plt.title(\"Comparing feature selection\")\r\n",
        "plt.xlabel('Feature number')\r\n",
        "plt.yticks(())\r\n",
        "plt.axis('tight')\r\n",
        "\r\n",
        "plt.legend(loc='upper right')\r\n",
        "plt.show()"
      ],
      "outputs": [
        {
          "output_type": "stream",
          "name": "stderr",
          "text": [
            "/usr/local/lib/python3.7/dist-packages/ipykernel_launcher.py:16: RuntimeWarning: divide by zero encountered in log10\n",
            "  app.launch_new_instance()\n",
            "/usr/local/lib/python3.7/dist-packages/ipykernel_launcher.py:17: RuntimeWarning: invalid value encountered in true_divide\n"
          ]
        },
        {
          "output_type": "stream",
          "name": "stdout",
          "text": [
            "Classification accuracy without selecting features: 0.970\n",
            "Classification accuracy after univariate feature selection: 0.970\n"
          ]
        },
        {
          "output_type": "display_data",
          "data": {
            "text/plain": [
              "<Figure size 432x288 with 1 Axes>"
            ],
            "image/png": "[encoded data removed]"
          },
          "metadata": {
            "tags": []
          }
        }
      ],
      "metadata": {
        "colab": {
          "base_uri": "https://localhost:8080/",
          "height": 390
        },
        "id": "go-ukGb0103t",
        "outputId": "941da017-bb49-4eb6-efe2-29bd6b88ce66"
      }
    },
    {
      "cell_type": "code",
      "execution_count": 68,
      "source": [
        "df_score = pd.DataFrame()\r\n",
        "df_score['f_name'] = x_colnames\r\n",
        "df_score['f_index'] = X_indices\r\n",
        "df_score['univariate_score']=scores\r\n",
        "df_score['svm_weight'] = svm_weights\r\n",
        "df_score['svm_weight_selected'] = svm_weights_selected\r\n",
        "df_score"
      ],
      "outputs": [
        {
          "output_type": "execute_result",
          "data": {
            "text/plain": [
              "            f_name  f_index  univariate_score  svm_weight  svm_weight_selected\n",
              "0           cc_num        0               0.0    0.000891             0.000891\n",
              "1              amt        1               NaN    0.911100             0.911100\n",
              "2           gender        2               0.0    0.001701             0.001701\n",
              "3              lat        3               0.0    0.000764             0.000764\n",
              "4             long        4               0.0    0.016651             0.016651\n",
              "5         city_pop        5               0.0    0.001711             0.001711\n",
              "6        unix_time        6               0.0    0.001561             0.001561\n",
              "7        merch_lat        7               0.0    0.001902             0.001902\n",
              "8       merch_long        8               0.0    0.015560             0.015560\n",
              "9       state_code        9               0.0    0.000893             0.000892\n",
              "10       city_code       10               0.0    0.000043             0.000043\n",
              "11  cat_risk_score       11               NaN    0.019234             0.019234\n",
              "12     trans_month       12               0.0    0.004175             0.004175\n",
              "13       trans_day       13               0.0    0.001726             0.001726\n",
              "14   trans_weekday       14               0.0    0.000736             0.000736\n",
              "15      trans_hour       15               0.0    0.011553             0.011553\n",
              "16      client_yob       16               0.0    0.009800             0.009800"
            ],
            "text/html": [
              "<div>\n",
              "<style scoped>\n",
              "    .dataframe tbody tr th:only-of-type {\n",
              "        vertical-align: middle;\n",
              "    }\n",
              "\n",
              "    .dataframe tbody tr th {\n",
              "        vertical-align: top;\n",
              "    }\n",
              "\n",
              "    .dataframe thead th {\n",
              "        text-align: right;\n",
              "    }\n",
              "</style>\n",
              "<table border=\"1\" class=\"dataframe\">\n",
              "  <thead>\n",
              "    <tr style=\"text-align: right;\">\n",
              "      <th></th>\n",
              "      <th>f_name</th>\n",
              "      <th>f_index</th>\n",
              "      <th>univariate_score</th>\n",
              "      <th>svm_weight</th>\n",
              "      <th>svm_weight_selected</th>\n",
              "    </tr>\n",
              "  </thead>\n",
              "  <tbody>\n",
              "    <tr>\n",
              "      <th>0</th>\n",
              "      <td>cc_num</td>\n",
              "      <td>0</td>\n",
              "      <td>0.0</td>\n",
              "      <td>0.000891</td>\n",
              "      <td>0.000891</td>\n",
              "    </tr>\n",
              "    <tr>\n",
              "      <th>1</th>\n",
              "      <td>amt</td>\n",
              "      <td>1</td>\n",
              "      <td>NaN</td>\n",
              "      <td>0.911100</td>\n",
              "      <td>0.911100</td>\n",
              "    </tr>\n",
              "    <tr>\n",
              "      <th>2</th>\n",
              "      <td>gender</td>\n",
              "      <td>2</td>\n",
              "      <td>0.0</td>\n",
              "      <td>0.001701</td>\n",
              "      <td>0.001701</td>\n",
              "    </tr>\n",
              "    <tr>\n",
              "      <th>3</th>\n",
              "      <td>lat</td>\n",
              "      <td>3</td>\n",
              "      <td>0.0</td>\n",
              "      <td>0.000764</td>\n",
              "      <td>0.000764</td>\n",
              "    </tr>\n",
              "    <tr>\n",
              "      <th>4</th>\n",
              "      <td>long</td>\n",
              "      <td>4</td>\n",
              "      <td>0.0</td>\n",
              "      <td>0.016651</td>\n",
              "      <td>0.016651</td>\n",
              "    </tr>\n",
              "    <tr>\n",
              "      <th>5</th>\n",
              "      <td>city_pop</td>\n",
              "      <td>5</td>\n",
              "      <td>0.0</td>\n",
              "      <td>0.001711</td>\n",
              "      <td>0.001711</td>\n",
              "    </tr>\n",
              "    <tr>\n",
              "      <th>6</th>\n",
              "      <td>unix_time</td>\n",
              "      <td>6</td>\n",
              "      <td>0.0</td>\n",
              "      <td>0.001561</td>\n",
              "      <td>0.001561</td>\n",
              "    </tr>\n",
              "    <tr>\n",
              "      <th>7</th>\n",
              "      <td>merch_lat</td>\n",
              "      <td>7</td>\n",
              "      <td>0.0</td>\n",
              "      <td>0.001902</td>\n",
              "      <td>0.001902</td>\n",
              "    </tr>\n",
              "    <tr>\n",
              "      <th>8</th>\n",
              "      <td>merch_long</td>\n",
              "      <td>8</td>\n",
              "      <td>0.0</td>\n",
              "      <td>0.015560</td>\n",
              "      <td>0.015560</td>\n",
              "    </tr>\n",
              "    <tr>\n",
              "      <th>9</th>\n",
              "      <td>state_code</td>\n",
              "      <td>9</td>\n",
              "      <td>0.0</td>\n",
              "      <td>0.000893</td>\n",
              "      <td>0.000892</td>\n",
              "    </tr>\n",
              "    <tr>\n",
              "      <th>10</th>\n",
              "      <td>city_code</td>\n",
              "      <td>10</td>\n",
              "      <td>0.0</td>\n",
              "      <td>0.000043</td>\n",
              "      <td>0.000043</td>\n",
              "    </tr>\n",
              "    <tr>\n",
              "      <th>11</th>\n",
              "      <td>cat_risk_score</td>\n",
              "      <td>11</td>\n",
              "      <td>NaN</td>\n",
              "      <td>0.019234</td>\n",
              "      <td>0.019234</td>\n",
              "    </tr>\n",
              "    <tr>\n",
              "      <th>12</th>\n",
              "      <td>trans_month</td>\n",
              "      <td>12</td>\n",
              "      <td>0.0</td>\n",
              "      <td>0.004175</td>\n",
              "      <td>0.004175</td>\n",
              "    </tr>\n",
              "    <tr>\n",
              "      <th>13</th>\n",
              "      <td>trans_day</td>\n",
              "      <td>13</td>\n",
              "      <td>0.0</td>\n",
              "      <td>0.001726</td>\n",
              "      <td>0.001726</td>\n",
              "    </tr>\n",
              "    <tr>\n",
              "      <th>14</th>\n",
              "      <td>trans_weekday</td>\n",
              "      <td>14</td>\n",
              "      <td>0.0</td>\n",
              "      <td>0.000736</td>\n",
              "      <td>0.000736</td>\n",
              "    </tr>\n",
              "    <tr>\n",
              "      <th>15</th>\n",
              "      <td>trans_hour</td>\n",
              "      <td>15</td>\n",
              "      <td>0.0</td>\n",
              "      <td>0.011553</td>\n",
              "      <td>0.011553</td>\n",
              "    </tr>\n",
              "    <tr>\n",
              "      <th>16</th>\n",
              "      <td>client_yob</td>\n",
              "      <td>16</td>\n",
              "      <td>0.0</td>\n",
              "      <td>0.009800</td>\n",
              "      <td>0.009800</td>\n",
              "    </tr>\n",
              "  </tbody>\n",
              "</table>\n",
              "</div>"
            ]
          },
          "metadata": {
            "tags": []
          },
          "execution_count": 68
        }
      ],
      "metadata": {
        "colab": {
          "base_uri": "https://localhost:8080/",
          "height": 546
        },
        "id": "ShvzwAM052J_",
        "outputId": "b35f52d2-ceb2-4371-912d-73f5f0fa430f"
      }
    },
    {
      "cell_type": "code",
      "execution_count": 78,
      "source": [
        "df_score=df_score.sort_values(by=\"svm_weight_selected\", ascending=False)\r\n",
        "df_score"
      ],
      "outputs": [
        {
          "output_type": "execute_result",
          "data": {
            "text/plain": [
              "            f_name  f_index  univariate_score  svm_weight  svm_weight_selected\n",
              "1              amt        1               NaN    0.911100             0.911100\n",
              "11  cat_risk_score       11               NaN    0.019234             0.019234\n",
              "4             long        4               0.0    0.016651             0.016651\n",
              "8       merch_long        8               0.0    0.015560             0.015560\n",
              "15      trans_hour       15               0.0    0.011553             0.011553\n",
              "16      client_yob       16               0.0    0.009800             0.009800\n",
              "12     trans_month       12               0.0    0.004175             0.004175\n",
              "7        merch_lat        7               0.0    0.001902             0.001902\n",
              "13       trans_day       13               0.0    0.001726             0.001726\n",
              "5         city_pop        5               0.0    0.001711             0.001711\n",
              "2           gender        2               0.0    0.001701             0.001701\n",
              "6        unix_time        6               0.0    0.001561             0.001561\n",
              "9       state_code        9               0.0    0.000893             0.000892\n",
              "0           cc_num        0               0.0    0.000891             0.000891\n",
              "3              lat        3               0.0    0.000764             0.000764\n",
              "14   trans_weekday       14               0.0    0.000736             0.000736\n",
              "10       city_code       10               0.0    0.000043             0.000043"
            ],
            "text/html": [
              "<div>\n",
              "<style scoped>\n",
              "    .dataframe tbody tr th:only-of-type {\n",
              "        vertical-align: middle;\n",
              "    }\n",
              "\n",
              "    .dataframe tbody tr th {\n",
              "        vertical-align: top;\n",
              "    }\n",
              "\n",
              "    .dataframe thead th {\n",
              "        text-align: right;\n",
              "    }\n",
              "</style>\n",
              "<table border=\"1\" class=\"dataframe\">\n",
              "  <thead>\n",
              "    <tr style=\"text-align: right;\">\n",
              "      <th></th>\n",
              "      <th>f_name</th>\n",
              "      <th>f_index</th>\n",
              "      <th>univariate_score</th>\n",
              "      <th>svm_weight</th>\n",
              "      <th>svm_weight_selected</th>\n",
              "    </tr>\n",
              "  </thead>\n",
              "  <tbody>\n",
              "    <tr>\n",
              "      <th>1</th>\n",
              "      <td>amt</td>\n",
              "      <td>1</td>\n",
              "      <td>NaN</td>\n",
              "      <td>0.911100</td>\n",
              "      <td>0.911100</td>\n",
              "    </tr>\n",
              "    <tr>\n",
              "      <th>11</th>\n",
              "      <td>cat_risk_score</td>\n",
              "      <td>11</td>\n",
              "      <td>NaN</td>\n",
              "      <td>0.019234</td>\n",
              "      <td>0.019234</td>\n",
              "    </tr>\n",
              "    <tr>\n",
              "      <th>4</th>\n",
              "      <td>long</td>\n",
              "      <td>4</td>\n",
              "      <td>0.0</td>\n",
              "      <td>0.016651</td>\n",
              "      <td>0.016651</td>\n",
              "    </tr>\n",
              "    <tr>\n",
              "      <th>8</th>\n",
              "      <td>merch_long</td>\n",
              "      <td>8</td>\n",
              "      <td>0.0</td>\n",
              "      <td>0.015560</td>\n",
              "      <td>0.015560</td>\n",
              "    </tr>\n",
              "    <tr>\n",
              "      <th>15</th>\n",
              "      <td>trans_hour</td>\n",
              "      <td>15</td>\n",
              "      <td>0.0</td>\n",
              "      <td>0.011553</td>\n",
              "      <td>0.011553</td>\n",
              "    </tr>\n",
              "    <tr>\n",
              "      <th>16</th>\n",
              "      <td>client_yob</td>\n",
              "      <td>16</td>\n",
              "      <td>0.0</td>\n",
              "      <td>0.009800</td>\n",
              "      <td>0.009800</td>\n",
              "    </tr>\n",
              "    <tr>\n",
              "      <th>12</th>\n",
              "      <td>trans_month</td>\n",
              "      <td>12</td>\n",
              "      <td>0.0</td>\n",
              "      <td>0.004175</td>\n",
              "      <td>0.004175</td>\n",
              "    </tr>\n",
              "    <tr>\n",
              "      <th>7</th>\n",
              "      <td>merch_lat</td>\n",
              "      <td>7</td>\n",
              "      <td>0.0</td>\n",
              "      <td>0.001902</td>\n",
              "      <td>0.001902</td>\n",
              "    </tr>\n",
              "    <tr>\n",
              "      <th>13</th>\n",
              "      <td>trans_day</td>\n",
              "      <td>13</td>\n",
              "      <td>0.0</td>\n",
              "      <td>0.001726</td>\n",
              "      <td>0.001726</td>\n",
              "    </tr>\n",
              "    <tr>\n",
              "      <th>5</th>\n",
              "      <td>city_pop</td>\n",
              "      <td>5</td>\n",
              "      <td>0.0</td>\n",
              "      <td>0.001711</td>\n",
              "      <td>0.001711</td>\n",
              "    </tr>\n",
              "    <tr>\n",
              "      <th>2</th>\n",
              "      <td>gender</td>\n",
              "      <td>2</td>\n",
              "      <td>0.0</td>\n",
              "      <td>0.001701</td>\n",
              "      <td>0.001701</td>\n",
              "    </tr>\n",
              "    <tr>\n",
              "      <th>6</th>\n",
              "      <td>unix_time</td>\n",
              "      <td>6</td>\n",
              "      <td>0.0</td>\n",
              "      <td>0.001561</td>\n",
              "      <td>0.001561</td>\n",
              "    </tr>\n",
              "    <tr>\n",
              "      <th>9</th>\n",
              "      <td>state_code</td>\n",
              "      <td>9</td>\n",
              "      <td>0.0</td>\n",
              "      <td>0.000893</td>\n",
              "      <td>0.000892</td>\n",
              "    </tr>\n",
              "    <tr>\n",
              "      <th>0</th>\n",
              "      <td>cc_num</td>\n",
              "      <td>0</td>\n",
              "      <td>0.0</td>\n",
              "      <td>0.000891</td>\n",
              "      <td>0.000891</td>\n",
              "    </tr>\n",
              "    <tr>\n",
              "      <th>3</th>\n",
              "      <td>lat</td>\n",
              "      <td>3</td>\n",
              "      <td>0.0</td>\n",
              "      <td>0.000764</td>\n",
              "      <td>0.000764</td>\n",
              "    </tr>\n",
              "    <tr>\n",
              "      <th>14</th>\n",
              "      <td>trans_weekday</td>\n",
              "      <td>14</td>\n",
              "      <td>0.0</td>\n",
              "      <td>0.000736</td>\n",
              "      <td>0.000736</td>\n",
              "    </tr>\n",
              "    <tr>\n",
              "      <th>10</th>\n",
              "      <td>city_code</td>\n",
              "      <td>10</td>\n",
              "      <td>0.0</td>\n",
              "      <td>0.000043</td>\n",
              "      <td>0.000043</td>\n",
              "    </tr>\n",
              "  </tbody>\n",
              "</table>\n",
              "</div>"
            ]
          },
          "metadata": {
            "tags": []
          },
          "execution_count": 78
        }
      ],
      "metadata": {
        "colab": {
          "base_uri": "https://localhost:8080/",
          "height": 546
        },
        "id": "RObzSAgN60S5",
        "outputId": "7dfdc8a2-5cb2-4a2c-83ea-473992fa25b8"
      }
    },
    {
      "cell_type": "code",
      "execution_count": 79,
      "source": [
        "df_score['svm_weight_selected'][0:6].sum()"
      ],
      "outputs": [
        {
          "output_type": "execute_result",
          "data": {
            "text/plain": [
              "0.983897237422942"
            ]
          },
          "metadata": {
            "tags": []
          },
          "execution_count": 79
        }
      ],
      "metadata": {
        "colab": {
          "base_uri": "https://localhost:8080/"
        },
        "id": "tsOshbS97xNo",
        "outputId": "57494e90-1fca-443a-c562-2b12fd4caf14"
      }
    },
    {
      "cell_type": "code",
      "execution_count": 82,
      "source": [
        "main_features = df_score['f_name'][0:6].values\r\n",
        "main_features"
      ],
      "outputs": [
        {
          "output_type": "execute_result",
          "data": {
            "text/plain": [
              "array(['amt', 'cat_risk_score', 'long', 'merch_long', 'trans_hour',\n",
              "       'client_yob'], dtype=object)"
            ]
          },
          "metadata": {
            "tags": []
          },
          "execution_count": 82
        }
      ],
      "metadata": {
        "colab": {
          "base_uri": "https://localhost:8080/"
        },
        "id": "WJO6XGtEAZph",
        "outputId": "945497d6-8cd5-4f69-c5f8-3206002449aa"
      }
    },
    {
      "cell_type": "markdown",
      "source": [
        "# Conclusion\n",
        "\n",
        " > **Features do not hold a linear relationship with fraud flag. However, using ML techniques it is possible to classify the transactions using DDBB features.**\n",
        "\n",
        "\n",
        "\n",
        "> **The first 6 fatures from the ordered table hold 98.3% of the variance for a Support Vector Machine classification algorithm.**"
      ],
      "metadata": {
        "id": "Zo29lUkwClHv"
      }
    },
    {
      "cell_type": "markdown",
      "source": [
        "#Validation\n",
        "\n",
        "Let's validate the precision using different ML architechtures"
      ],
      "metadata": {
        "id": "NMcLsCSfCCyu"
      }
    },
    {
      "cell_type": "code",
      "execution_count": 5,
      "source": [
        "df = pd.read_csv('df_advance.csv', index_col=0)\r\n",
        "df.head()"
      ],
      "outputs": [
        {
          "output_type": "execute_result",
          "data": {
            "text/plain": [
              "              cc_num    amt  gender  ...  trans_weekday  trans_hour  client_yob\n",
              "3   3534093764340240  45.00       0  ...              1           0        1967\n",
              "10     4642894980163  24.74       0  ...              1           0        1990\n",
              "27  4334230547694630   6.85       0  ...              1           0        1967\n",
              "32      630412733309  66.21       1  ...              1           0        1964\n",
              "34   374125201044065   9.03       0  ...              1           0        1970\n",
              "\n",
              "[5 rows x 18 columns]"
            ],
            "text/html": [
              "<div>\n",
              "<style scoped>\n",
              "    .dataframe tbody tr th:only-of-type {\n",
              "        vertical-align: middle;\n",
              "    }\n",
              "\n",
              "    .dataframe tbody tr th {\n",
              "        vertical-align: top;\n",
              "    }\n",
              "\n",
              "    .dataframe thead th {\n",
              "        text-align: right;\n",
              "    }\n",
              "</style>\n",
              "<table border=\"1\" class=\"dataframe\">\n",
              "  <thead>\n",
              "    <tr style=\"text-align: right;\">\n",
              "      <th></th>\n",
              "      <th>cc_num</th>\n",
              "      <th>amt</th>\n",
              "      <th>gender</th>\n",
              "      <th>lat</th>\n",
              "      <th>long</th>\n",
              "      <th>city_pop</th>\n",
              "      <th>unix_time</th>\n",
              "      <th>merch_lat</th>\n",
              "      <th>merch_long</th>\n",
              "      <th>is_fraud</th>\n",
              "      <th>state_code</th>\n",
              "      <th>city_code</th>\n",
              "      <th>cat_risk_score</th>\n",
              "      <th>trans_month</th>\n",
              "      <th>trans_day</th>\n",
              "      <th>trans_weekday</th>\n",
              "      <th>trans_hour</th>\n",
              "      <th>client_yob</th>\n",
              "    </tr>\n",
              "  </thead>\n",
              "  <tbody>\n",
              "    <tr>\n",
              "      <th>3</th>\n",
              "      <td>3534093764340240</td>\n",
              "      <td>45.00</td>\n",
              "      <td>0</td>\n",
              "      <td>46.2306</td>\n",
              "      <td>-112.1138</td>\n",
              "      <td>1939</td>\n",
              "      <td>1325376076</td>\n",
              "      <td>47.034332</td>\n",
              "      <td>-112.561070</td>\n",
              "      <td>0</td>\n",
              "      <td>30</td>\n",
              "      <td>2978</td>\n",
              "      <td>5</td>\n",
              "      <td>1</td>\n",
              "      <td>1</td>\n",
              "      <td>1</td>\n",
              "      <td>0</td>\n",
              "      <td>1967</td>\n",
              "    </tr>\n",
              "    <tr>\n",
              "      <th>10</th>\n",
              "      <td>4642894980163</td>\n",
              "      <td>24.74</td>\n",
              "      <td>0</td>\n",
              "      <td>40.7491</td>\n",
              "      <td>-95.0380</td>\n",
              "      <td>7297</td>\n",
              "      <td>1325376383</td>\n",
              "      <td>40.275890</td>\n",
              "      <td>-96.011550</td>\n",
              "      <td>0</td>\n",
              "      <td>19</td>\n",
              "      <td>5105</td>\n",
              "      <td>1</td>\n",
              "      <td>1</td>\n",
              "      <td>1</td>\n",
              "      <td>1</td>\n",
              "      <td>0</td>\n",
              "      <td>1990</td>\n",
              "    </tr>\n",
              "    <tr>\n",
              "      <th>27</th>\n",
              "      <td>4334230547694630</td>\n",
              "      <td>6.85</td>\n",
              "      <td>0</td>\n",
              "      <td>43.0172</td>\n",
              "      <td>-111.0292</td>\n",
              "      <td>471</td>\n",
              "      <td>1325377292</td>\n",
              "      <td>43.753735</td>\n",
              "      <td>-111.454926</td>\n",
              "      <td>0</td>\n",
              "      <td>56</td>\n",
              "      <td>2088</td>\n",
              "      <td>6</td>\n",
              "      <td>1</td>\n",
              "      <td>1</td>\n",
              "      <td>1</td>\n",
              "      <td>0</td>\n",
              "      <td>1967</td>\n",
              "    </tr>\n",
              "    <tr>\n",
              "      <th>32</th>\n",
              "      <td>630412733309</td>\n",
              "      <td>66.21</td>\n",
              "      <td>1</td>\n",
              "      <td>46.3680</td>\n",
              "      <td>-87.9938</td>\n",
              "      <td>1038</td>\n",
              "      <td>1325377364</td>\n",
              "      <td>46.412037</td>\n",
              "      <td>-88.516660</td>\n",
              "      <td>0</td>\n",
              "      <td>26</td>\n",
              "      <td>8680</td>\n",
              "      <td>4</td>\n",
              "      <td>1</td>\n",
              "      <td>1</td>\n",
              "      <td>1</td>\n",
              "      <td>0</td>\n",
              "      <td>1964</td>\n",
              "    </tr>\n",
              "    <tr>\n",
              "      <th>34</th>\n",
              "      <td>374125201044065</td>\n",
              "      <td>9.03</td>\n",
              "      <td>0</td>\n",
              "      <td>38.9757</td>\n",
              "      <td>-77.0282</td>\n",
              "      <td>601723</td>\n",
              "      <td>1325377438</td>\n",
              "      <td>38.880898</td>\n",
              "      <td>-76.441120</td>\n",
              "      <td>0</td>\n",
              "      <td>11</td>\n",
              "      <td>1387</td>\n",
              "      <td>4</td>\n",
              "      <td>1</td>\n",
              "      <td>1</td>\n",
              "      <td>1</td>\n",
              "      <td>0</td>\n",
              "      <td>1970</td>\n",
              "    </tr>\n",
              "  </tbody>\n",
              "</table>\n",
              "</div>"
            ]
          },
          "metadata": {
            "tags": []
          },
          "execution_count": 5
        }
      ],
      "metadata": {
        "colab": {
          "base_uri": "https://localhost:8080/",
          "height": 214
        },
        "id": "nMv3Uu4UFI0H",
        "outputId": "86ff5d13-1dd2-4086-b2eb-b6fd577fc51a"
      }
    },
    {
      "cell_type": "markdown",
      "source": [
        "Let's create a balanced training dataset"
      ],
      "metadata": {
        "id": "A5huSGMhIi-S"
      }
    },
    {
      "cell_type": "code",
      "execution_count": 18,
      "source": [
        "def balanced_subsample(x,y,subsample_size=1.0):\r\n",
        "\r\n",
        "    class_xs = []\r\n",
        "    min_elems = None\r\n",
        "\r\n",
        "    for yi in np.unique(y):\r\n",
        "        elems = x[(y == yi)]\r\n",
        "        class_xs.append((yi, elems))\r\n",
        "        if min_elems == None or elems.shape[0] < min_elems:\r\n",
        "            min_elems = elems.shape[0]\r\n",
        "\r\n",
        "    use_elems = min_elems\r\n",
        "    if subsample_size < 1:\r\n",
        "        use_elems = int(min_elems*subsample_size)\r\n",
        "\r\n",
        "    xs = []\r\n",
        "    ys = []\r\n",
        "\r\n",
        "    for ci,this_xs in class_xs:\r\n",
        "        if len(this_xs) > use_elems:\r\n",
        "            this_xs = this_xs.reindex(np.random.permutation(this_xs.index))\r\n",
        "\r\n",
        "        x_ = this_xs[:use_elems]\r\n",
        "        y_ = np.empty(use_elems)\r\n",
        "        y_.fill(ci)\r\n",
        "\r\n",
        "        xs.append(x_)\r\n",
        "        ys.append(y_)\r\n",
        "    xs = pd.concat(xs)\r\n",
        "    ys = pd.Series(data=np.concatenate(ys),name='target')\r\n",
        "\r\n",
        "    return xs,ys"
      ],
      "outputs": [],
      "metadata": {
        "id": "2aLr1oiqI9Y8"
      }
    },
    {
      "cell_type": "code",
      "execution_count": 19,
      "source": [
        "#x_colnames = main_features\n",
        "x_colnames = ['amt', 'cat_risk_score', 'long', 'merch_long', 'trans_hour', 'client_yob']\n",
        "y_colnames = \"is_fraud\""
      ],
      "outputs": [],
      "metadata": {
        "id": "5GRHlq5YC_p9"
      }
    },
    {
      "cell_type": "code",
      "execution_count": 25,
      "source": [
        "X = df[x_colnames]\n",
        "y = df[y_colnames]\n",
        "\n",
        "X_train, y_train = balanced_subsample(X, y, subsample_size=0.7)"
      ],
      "outputs": [],
      "metadata": {
        "id": "R6zQdfbBJP8n"
      }
    },
    {
      "cell_type": "code",
      "execution_count": 31,
      "source": [
        "used_indexes = X_train.index.values\n",
        "used_indexes"
      ],
      "outputs": [
        {
          "output_type": "execute_result",
          "data": {
            "text/plain": [
              "array([ 337475, 1237700,  449741, ...,  967090, 1097426,   81439])"
            ]
          },
          "metadata": {
            "tags": []
          },
          "execution_count": 31
        }
      ],
      "metadata": {
        "colab": {
          "base_uri": "https://localhost:8080/"
        },
        "id": "8mF22dHKKDL5",
        "outputId": "22ec40fc-3ce0-4138-a733-5b52475f01ff"
      }
    },
    {
      "cell_type": "code",
      "execution_count": 24,
      "source": [
        "def accuracy(confusion_matrix):\n",
        "  diagonal_sum = confusion_matrix.trace()\n",
        "  sum_of_all_elements = confusion_matrix.sum()\n",
        "  return diagonal_sum / sum_of_all_elements "
      ],
      "outputs": [],
      "metadata": {
        "id": "o46OmSGcCF05"
      }
    },
    {
      "cell_type": "code",
      "execution_count": 38,
      "source": [
        "X_test = X.drop(index=used_indexes)\n",
        "y_test = df.loc[X_test.index.values][y_colnames].to_numpy().ravel()"
      ],
      "outputs": [],
      "metadata": {
        "id": "5OnnpSdLC6Z1"
      }
    },
    {
      "cell_type": "markdown",
      "source": [
        "### Support Vector Machine"
      ],
      "metadata": {
        "id": "JHHLURlrMBnw"
      }
    },
    {
      "cell_type": "code",
      "execution_count": 39,
      "source": [
        "neigh = SVC()      \n",
        "neigh_model = neigh.fit(X_train, y_train)\n",
        "predictions = neigh.predict(X_test)\n",
        "actuals = y_test\n",
        "conf = confusion_matrix(actuals, predictions)\n",
        "\n",
        "sns. set(font_scale=2)\n",
        "ax = sns.heatmap(conf,cmap=\"Wistia\", annot=True, fmt='.0f')\n",
        "ax.figure.set_figheight(10)\n",
        "ax.figure.set_figwidth(10)\n",
        "\n",
        "print(accuracy(conf))"
      ],
      "outputs": [
        {
          "output_type": "stream",
          "name": "stdout",
          "text": [
            "0.9483225037163884\n"
          ]
        },
        {
          "output_type": "display_data",
          "data": {
            "text/plain": [
              "<Figure size 720x720 with 2 Axes>"
            ],
            "image/png": "[encoded data removed]"
          },
          "metadata": {
            "tags": []
          }
        }
      ],
      "metadata": {
        "colab": {
          "base_uri": "https://localhost:8080/",
          "height": 622
        },
        "id": "U2NhpGZVEu-e",
        "outputId": "250f1058-d129-4ed5-da18-9428f2b3c469"
      }
    },
    {
      "cell_type": "markdown",
      "source": [
        "###CGBoost"
      ],
      "metadata": {
        "id": "VYBrmpL2MEnl"
      }
    },
    {
      "cell_type": "code",
      "execution_count": 40,
      "source": [
        "neigh = xgb.XGBClassifier()     \n",
        "neigh_model = neigh.fit(X_train, y_train)\n",
        "predictions = neigh.predict(X_test)\n",
        "actuals = y_test\n",
        "conf = confusion_matrix(actuals, predictions)\n",
        "\n",
        "sns. set(font_scale=2)\n",
        "ax = sns.heatmap(conf,cmap=\"Wistia\", annot=True, fmt='.0f')\n",
        "ax.figure.set_figheight(10)\n",
        "ax.figure.set_figwidth(10)\n",
        "\n",
        "print(accuracy(conf))"
      ],
      "outputs": [
        {
          "output_type": "stream",
          "name": "stdout",
          "text": [
            "0.9639969953722429\n"
          ]
        },
        {
          "output_type": "display_data",
          "data": {
            "text/plain": [
              "<Figure size 720x720 with 2 Axes>"
            ],
            "image/png": "[encoded data removed]"
          },
          "metadata": {
            "tags": []
          }
        }
      ],
      "metadata": {
        "colab": {
          "base_uri": "https://localhost:8080/",
          "height": 622
        },
        "id": "W8z8CNE0Fwi6",
        "outputId": "93783e43-068d-49e4-a230-737dd43be06a"
      }
    },
    {
      "cell_type": "markdown",
      "source": [
        "### AdaBoost"
      ],
      "metadata": {
        "id": "5vBDkPtNMIfI"
      }
    },
    {
      "cell_type": "code",
      "execution_count": 42,
      "source": [
        "neigh = AdaBoostClassifier()    \n",
        "neigh_model = neigh.fit(X_train, y_train)\n",
        "predictions = neigh.predict(X_test)\n",
        "actuals = y_test\n",
        "conf = confusion_matrix(actuals, predictions)\n",
        "\n",
        "sns. set(font_scale=2)\n",
        "ax = sns.heatmap(conf,cmap=\"Wistia\", annot=True, fmt='.0f')\n",
        "ax.figure.set_figheight(10)\n",
        "ax.figure.set_figwidth(10)\n",
        "\n",
        "print(accuracy(conf))"
      ],
      "outputs": [
        {
          "output_type": "stream",
          "name": "stdout",
          "text": [
            "0.9522358737846228\n"
          ]
        },
        {
          "output_type": "display_data",
          "data": {
            "text/plain": [
              "<Figure size 720x720 with 2 Axes>"
            ],
            "image/png": "[encoded data removed]"
          },
          "metadata": {
            "tags": []
          }
        }
      ],
      "metadata": {
        "colab": {
          "base_uri": "https://localhost:8080/",
          "height": 622
        },
        "id": "Pr-ILDeBIE-d",
        "outputId": "c67c3cb2-b5bd-4b36-d3ac-14f14e101a39"
      }
    },
    {
      "cell_type": "markdown",
      "source": [
        "### Decision Tree"
      ],
      "metadata": {
        "id": "4FlIrF-5MVKp"
      }
    },
    {
      "cell_type": "code",
      "execution_count": 43,
      "source": [
        "neigh = DecisionTreeClassifier()   \n",
        "neigh_model = neigh.fit(X_train, y_train)\n",
        "predictions = neigh.predict(X_test)\n",
        "actuals = y_test\n",
        "conf = confusion_matrix(actuals, predictions)\n",
        "\n",
        "sns. set(font_scale=2)\n",
        "ax = sns.heatmap(conf,cmap=\"Wistia\", annot=True, fmt='.0f')\n",
        "ax.figure.set_figheight(10)\n",
        "ax.figure.set_figwidth(10)\n",
        "\n",
        "print(accuracy(conf))"
      ],
      "outputs": [
        {
          "output_type": "stream",
          "name": "stdout",
          "text": [
            "0.9619378798464068\n"
          ]
        },
        {
          "output_type": "display_data",
          "data": {
            "text/plain": [
              "<Figure size 720x720 with 2 Axes>"
            ],
            "image/png": "[encoded data removed]"
          },
          "metadata": {
            "tags": []
          }
        }
      ],
      "metadata": {
        "colab": {
          "base_uri": "https://localhost:8080/",
          "height": 622
        },
        "id": "txrs-czSL-k7",
        "outputId": "1601135d-dfbf-4af0-830d-a3c5d6ce9e0a"
      }
    },
    {
      "cell_type": "markdown",
      "source": [
        "### Random Forest"
      ],
      "metadata": {
        "id": "Cf4j0-mEMecG"
      }
    },
    {
      "cell_type": "code",
      "execution_count": 44,
      "source": [
        "neigh = RandomForestClassifier()\n",
        "neigh_model = neigh.fit(X_train, y_train)\n",
        "predictions = neigh.predict(X_test)\n",
        "actuals = y_test\n",
        "conf = confusion_matrix(actuals, predictions)\n",
        "\n",
        "sns. set(font_scale=2)\n",
        "ax = sns.heatmap(conf,cmap=\"Wistia\", annot=True, fmt='.0f')\n",
        "ax.figure.set_figheight(10)\n",
        "ax.figure.set_figwidth(10)\n",
        "\n",
        "print(accuracy(conf))"
      ],
      "outputs": [
        {
          "output_type": "stream",
          "name": "stdout",
          "text": [
            "0.972974108723401\n"
          ]
        },
        {
          "output_type": "display_data",
          "data": {
            "text/plain": [
              "<Figure size 720x720 with 2 Axes>"
            ],
            "image/png": "[encoded data removed]"
          },
          "metadata": {
            "tags": []
          }
        }
      ],
      "metadata": {
        "colab": {
          "base_uri": "https://localhost:8080/",
          "height": 622
        },
        "id": "yaH1D0WFMgQK",
        "outputId": "f2dbbfbc-ee1d-4ed3-8565-1bc12b4a727d"
      }
    },
    {
      "cell_type": "markdown",
      "source": [
        "### Gaussian NB"
      ],
      "metadata": {
        "id": "_fEcLaKdM3c7"
      }
    },
    {
      "cell_type": "code",
      "execution_count": 45,
      "source": [
        "neigh = GaussianNB()\n",
        "neigh_model = neigh.fit(X_train, y_train)\n",
        "predictions = neigh.predict(X_test)\n",
        "actuals = y_test\n",
        "conf = confusion_matrix(actuals, predictions)\n",
        "\n",
        "sns. set(font_scale=2)\n",
        "ax = sns.heatmap(conf,cmap=\"Wistia\", annot=True, fmt='.0f')\n",
        "ax.figure.set_figheight(10)\n",
        "ax.figure.set_figwidth(10)\n",
        "\n",
        "print(accuracy(conf))"
      ],
      "outputs": [
        {
          "output_type": "stream",
          "name": "stdout",
          "text": [
            "0.9691342784953749\n"
          ]
        },
        {
          "output_type": "display_data",
          "data": {
            "text/plain": [
              "<Figure size 720x720 with 2 Axes>"
            ],
            "image/png": "[encoded data removed]"
          },
          "metadata": {
            "tags": []
          }
        }
      ],
      "metadata": {
        "colab": {
          "base_uri": "https://localhost:8080/",
          "height": 622
        },
        "id": "9LXQJv14M6uN",
        "outputId": "1cf78b1d-a814-4ddc-e412-208c2118fca4"
      }
    },
    {
      "cell_type": "markdown",
      "source": [
        "##Conclusion\n",
        "\n",
        "> **Standard ML models using main 6 parameters can predict fraud with over 95% accuracy**\n",
        "\n",
        "> **Balancing the training dataset helped out making the training process shorter and improving overall accuracy**\n",
        "\n",
        "> **Hyperparameter optimization techniques can improve the model's accuracy over the current results**"
      ],
      "metadata": {
        "id": "oyEJfhNyHGVS"
      }
    }
  ]
}
